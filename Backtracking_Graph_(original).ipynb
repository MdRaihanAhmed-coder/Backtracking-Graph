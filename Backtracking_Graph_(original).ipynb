{
  "nbformat": 4,
  "nbformat_minor": 0,
  "metadata": {
    "colab": {
      "name": "Backtracking Graph (original).ipynb",
      "provenance": [],
      "collapsed_sections": [],
      "authorship_tag": "ABX9TyPqPUAW72R9ayrmYo9j9xIP",
      "include_colab_link": true
    },
    "kernelspec": {
      "name": "python3",
      "display_name": "Python 3"
    },
    "language_info": {
      "name": "python"
    }
  },
  "cells": [
    {
      "cell_type": "markdown",
      "metadata": {
        "id": "view-in-github",
        "colab_type": "text"
      },
      "source": [
        "<a href=\"https://colab.research.google.com/github/MdRaihanAhmed-coder/Backtracking-Graph/blob/main/Backtracking_Graph_(original).ipynb\" target=\"_parent\"><img src=\"https://colab.research.google.com/assets/colab-badge.svg\" alt=\"Open In Colab\"/></a>"
      ]
    },
    {
      "cell_type": "code",
      "metadata": {
        "id": "B_8AFRhWdzoy",
        "colab": {
          "base_uri": "https://localhost:8080/"
        },
        "outputId": "51292cab-9baf-45b7-b6bc-2ad0396bb813"
      },
      "source": [
        "start = \". \"\n",
        "end = \"cwd\"\n",
        "s = '40836 14:55:03.739604166 0 tar (8039) < execve res=0 exe=tar args=cvf.j.tar.j.pdf. tid=8039(tar) pid=8039(tar) ptid=7534(bash) cwd= fdlimit=1024 pgft_maj=0 pgft_min=27 vm_size=784 vm_rss=4 vm_swap=0 comm=tar cgroups=cpuset=/.cpu=/.cpuacct=/.io=/.memory=/user.slice/user-1000.slice/user@1000.se... env=SHELL=/bin/bash.SESSION_MANAGER=local/raihan-VirtualBox:@/tmp/.ICE-unix/1576,... tty=34816 pgid=8039(tar) loginuid=1000 40836 14:55:03.739604166 0 tar (8039) < execve res=0 exe=tar args=cvf.j.tar.j.pdf. tid=8039(tar2) pid=8039(tar2) ptid=7534(bash2) cwd= fdlimit=1024 pgft_maj=0 pgft_min=27 vm_size=784 vm_rss=4 vm_swap=0 comm=tar cgroups=cpuset=/.cpu=/.cpuacct=/.io=/.memory=/user.slice/user-1000.slice/user@1000.se... env=SHELL=/bin/bash.SESSION_MANAGER=local/raihan-VirtualBox:@/tmp/.ICE-unix/1576,... tty=34816 pgid=8039(tar) loginuid=1000'\n",
        "print((s.split(start))[1].split(end)[0])\n",
        "relation = ((s.split(start))[1].split(end)[0])"
      ],
      "execution_count": null,
      "outputs": [
        {
          "output_type": "stream",
          "name": "stdout",
          "text": [
            "tid=8039(tar) pid=8039(tar) ptid=7534(bash) \n"
          ]
        }
      ]
    },
    {
      "cell_type": "code",
      "metadata": {
        "colab": {
          "base_uri": "https://localhost:8080/"
        },
        "id": "53e_UWKffIqe",
        "outputId": "e4ba6e39-f27d-4a02-d948-e9b1d27e324e"
      },
      "source": [
        "print(relation)\n",
        "print(relation.split())\n",
        "relation = relation.split()"
      ],
      "execution_count": null,
      "outputs": [
        {
          "output_type": "stream",
          "name": "stdout",
          "text": [
            "tid=8039(tar) pid=8039(tar) ptid=7534(bash) \n",
            "['tid=8039(tar)', 'pid=8039(tar)', 'ptid=7534(bash)']\n"
          ]
        }
      ]
    },
    {
      "cell_type": "code",
      "metadata": {
        "id": "9cgRg4Iyd_LH"
      },
      "source": [
        "# import pydot\n",
        "# from PIL import Image\n",
        "# from io import BytesIO\n",
        "\n",
        "# graph = pydot.Dot(graph_type='digraph')\n",
        "\n",
        "# node_a = pydot.Node(\"Node A\", style=\"filled\", fillcolor=\"red\")\n",
        "# node_b = pydot.Node(\"Node B\", style=\"filled\", fillcolor=\"green\")\n",
        "# node_c = pydot.Node(\"Node C\", style=\"filled\", fillcolor=\"#0000ff\")\n",
        "# node_d = pydot.Node(\"Node D\", style=\"filled\", fillcolor=\"#976856\")\n",
        "\n",
        "# graph.add_node(node_a)\n",
        "# graph.add_node(node_b)\n",
        "# graph.add_node(node_c)\n",
        "# graph.add_node(node_d)\n",
        "\n",
        "# # and finally we create the edges\n",
        "# # to keep it short, I'll be adding the edge automatically to the graph instead\n",
        "# # of keeping a reference to it in a variable\n",
        "# graph.add_edge(pydot.Edge(node_a, node_b))\n",
        "# graph.add_edge(pydot.Edge(node_b, node_c))\n",
        "# graph.add_edge(pydot.Edge(node_c, node_d))\n",
        "# # but, let's make this last edge special, yes?\n",
        "# graph.add_edge(pydot.Edge(node_d, node_a, label=\"and back we go again\", labelfontcolor=\"#009933\", fontsize=\"10.0\", color=\"blue\"))\n",
        "\n",
        "# # and we are done\n",
        "# # graph.write_png('example2_graph.png')\n",
        "# # print graph.to_string()\n",
        "# # graphs = pydot.graph_from_dot_data( graph )\n",
        "# # svg_string = graphs[0].create_svg() \n",
        "# # this is too good to be true!\n",
        "# from graphviz import render\n",
        "# render('dot', 'png', 'graph.dot')\n",
        "\n",
        "# # To render an existing file in a notebook\n",
        "# from graphviz import Source\n",
        "# Source.from_file(\"graph.dot\")"
      ],
      "execution_count": null,
      "outputs": []
    },
    {
      "cell_type": "code",
      "metadata": {
        "colab": {
          "base_uri": "https://localhost:8080/",
          "height": 69
        },
        "id": "-oLx6XF3ieaO",
        "outputId": "21742ec7-9124-481b-b3b6-30d031618718"
      },
      "source": [
        "import graphviz\n",
        "from graphviz import Graph\n",
        "\n",
        "# g = Graph('G', filename='process.gv', engine='sfdp')\n",
        "g = graphviz.Digraph(\"process\")\n",
        "length = len(relation)\n",
        "  \n",
        "# Iterating the index\n",
        "# same as 'for i in range(len(list))'\n",
        "for i in range(length-1):\n",
        "  g.edge(relation[i], relation[i+1])\n",
        "  # print(i)\n",
        "  print(relation[i+1])\n",
        "\n",
        "g.edge(relation[2], relation[0])\n",
        "# for i in relation:\n",
        "#   g.edge('run', 'intr')\n",
        "#   print( relation[i])\n",
        "\n",
        "\n",
        "g.view()"
      ],
      "execution_count": null,
      "outputs": [
        {
          "output_type": "stream",
          "name": "stdout",
          "text": [
            "pid=8039(tar)\n",
            "ptid=7534(bash)\n"
          ]
        },
        {
          "output_type": "execute_result",
          "data": {
            "application/vnd.google.colaboratory.intrinsic+json": {
              "type": "string"
            },
            "text/plain": [
              "'process.gv.pdf'"
            ]
          },
          "metadata": {},
          "execution_count": 4
        }
      ]
    },
    {
      "cell_type": "code",
      "metadata": {
        "colab": {
          "base_uri": "https://localhost:8080/",
          "height": 272
        },
        "id": "eL04H66viuFf",
        "outputId": "5daff08d-83c2-442a-e31d-204de6cf9b3b"
      },
      "source": [
        "with open(\"process.gv\") as f:\n",
        "    dot_graph = f.read()\n",
        "graphviz.Source(dot_graph)"
      ],
      "execution_count": null,
      "outputs": [
        {
          "output_type": "execute_result",
          "data": {
            "text/plain": [
              "<graphviz.files.Source at 0x7f27c9040c50>"
            ],
            "image/svg+xml": "<?xml version=\"1.0\" encoding=\"UTF-8\" standalone=\"no\"?>\n<!DOCTYPE svg PUBLIC \"-//W3C//DTD SVG 1.1//EN\"\n \"http://www.w3.org/Graphics/SVG/1.1/DTD/svg11.dtd\">\n<!-- Generated by graphviz version 2.40.1 (20161225.0304)\n -->\n<!-- Title: process Pages: 1 -->\n<svg width=\"189pt\" height=\"188pt\"\n viewBox=\"0.00 0.00 189.49 188.00\" xmlns=\"http://www.w3.org/2000/svg\" xmlns:xlink=\"http://www.w3.org/1999/xlink\">\n<g id=\"graph0\" class=\"graph\" transform=\"scale(1 1) rotate(0) translate(4 184)\">\n<title>process</title>\n<polygon fill=\"#ffffff\" stroke=\"transparent\" points=\"-4,4 -4,-184 185.4879,-184 185.4879,4 -4,4\"/>\n<!-- tid=8039(tar) -->\n<g id=\"node1\" class=\"node\">\n<title>tid=8039(tar)</title>\n<ellipse fill=\"none\" stroke=\"#000000\" cx=\"108.0444\" cy=\"-162\" rx=\"60.3893\" ry=\"18\"/>\n<text text-anchor=\"middle\" x=\"108.0444\" y=\"-158.3\" font-family=\"Times,serif\" font-size=\"14.00\" fill=\"#000000\">tid=8039(tar)</text>\n</g>\n<!-- pid=8039(tar) -->\n<g id=\"node2\" class=\"node\">\n<title>pid=8039(tar)</title>\n<ellipse fill=\"none\" stroke=\"#000000\" cx=\"63.0444\" cy=\"-90\" rx=\"63.0888\" ry=\"18\"/>\n<text text-anchor=\"middle\" x=\"63.0444\" y=\"-86.3\" font-family=\"Times,serif\" font-size=\"14.00\" fill=\"#000000\">pid=8039(tar)</text>\n</g>\n<!-- tid=8039(tar)&#45;&gt;pid=8039(tar) -->\n<g id=\"edge1\" class=\"edge\">\n<title>tid=8039(tar)&#45;&gt;pid=8039(tar)</title>\n<path fill=\"none\" stroke=\"#000000\" d=\"M96.9208,-144.2022C91.6743,-135.8079 85.308,-125.6218 79.5168,-116.3558\"/>\n<polygon fill=\"#000000\" stroke=\"#000000\" points=\"82.464,-114.4675 74.196,-107.8425 76.528,-118.1776 82.464,-114.4675\"/>\n</g>\n<!-- ptid=7534(bash) -->\n<g id=\"node3\" class=\"node\">\n<title>ptid=7534(bash)</title>\n<ellipse fill=\"none\" stroke=\"#000000\" cx=\"108.0444\" cy=\"-18\" rx=\"73.387\" ry=\"18\"/>\n<text text-anchor=\"middle\" x=\"108.0444\" y=\"-14.3\" font-family=\"Times,serif\" font-size=\"14.00\" fill=\"#000000\">ptid=7534(bash)</text>\n</g>\n<!-- pid=8039(tar)&#45;&gt;ptid=7534(bash) -->\n<g id=\"edge2\" class=\"edge\">\n<title>pid=8039(tar)&#45;&gt;ptid=7534(bash)</title>\n<path fill=\"none\" stroke=\"#000000\" d=\"M74.168,-72.2022C79.4145,-63.8079 85.7808,-53.6218 91.572,-44.3558\"/>\n<polygon fill=\"#000000\" stroke=\"#000000\" points=\"94.5608,-46.1776 96.8928,-35.8425 88.6248,-42.4675 94.5608,-46.1776\"/>\n</g>\n<!-- ptid=7534(bash)&#45;&gt;tid=8039(tar) -->\n<g id=\"edge3\" class=\"edge\">\n<title>ptid=7534(bash)&#45;&gt;tid=8039(tar)</title>\n<path fill=\"none\" stroke=\"#000000\" d=\"M119.7953,-36.1759C125.6302,-46.2858 132.0583,-59.3505 135.0444,-72 138.7205,-87.572 138.7205,-92.428 135.0444,-108 132.8398,-117.3389 128.7592,-126.9041 124.4262,-135.3395\"/>\n<polygon fill=\"#000000\" stroke=\"#000000\" points=\"121.2466,-133.8588 119.5134,-144.311 127.3863,-137.221 121.2466,-133.8588\"/>\n</g>\n</g>\n</svg>\n"
          },
          "metadata": {},
          "execution_count": 5
        }
      ]
    },
    {
      "cell_type": "code",
      "metadata": {
        "id": "P-dzWDBBbcVA",
        "colab": {
          "base_uri": "https://localhost:8080/"
        },
        "outputId": "52faf6b1-0d2e-4ccd-d8a3-bfe3fe24c505"
      },
      "source": [
        "s = 'execve filename=/usr/bin/tar 40836 14:55:03.739604166 0 tar (8039) < execve res=0 exe=tar args=cvf.j.tar.j.pdf. tid=8039(tar) pid=8039(tar) ptid=7534(bash) cwd= fdlimit=1024 pgft_maj=0 pgft_min=27 vm_size=784 vm_rss=4 vm_swap=0 comm=tar cgroups=cpuset=/.cpu=/.cpuacct=/.io=/.memory=/user.slice/user-1000.slice/user@1000.se... env=SHELL=/bin/bash.SESSION_MANAGER=local/raihan-VirtualBox:@/tmp/.ICE-unix/1576,... tty=34816 pgid=8039(tar) loginuid=1000 40836 14:55:03.739604166 0 tar (8039) < execve res=0 exe=tar args=cvf.j.tar.j.pdf. tid=8039(tar2) pid=8039(tar2) ptid=7534(bash2) cwd= fdlimit=1024 pgft_maj=0 pgft_min=27 vm_size=784 vm_rss=4 vm_swap=0 comm=tar cgroups=cpuset=/.cpu=/.cpuacct=/.io=/.memory=/user.slice/user-1000.slice/user@1000.se... env=SHELL=/bin/bash.SESSION_MANAGER=local/raihan-VirtualBox:@/tmp/.ICE-unix/1576,... tty=34816 pgid=8039(tar) loginuid=1000'\n",
        "\n",
        "start = s.find(\". \") + len(\". \")\n",
        "end = s.find(\"cwd\")\n",
        "\n",
        "substring = s[start:end]\n",
        "start = s.find(\". \") + len(\". \")\n",
        "end = s.find(\"cwd\")\n",
        "substring +=\" \" + s[start:end]\n",
        "print(substring)"
      ],
      "execution_count": null,
      "outputs": [
        {
          "output_type": "stream",
          "name": "stdout",
          "text": [
            "tid=8039(tar) pid=8039(tar) ptid=7534(bash)  tid=8039(tar) pid=8039(tar) ptid=7534(bash) \n"
          ]
        }
      ]
    },
    {
      "cell_type": "code",
      "metadata": {
        "id": "hOTCKHJDbb_3"
      },
      "source": [
        ""
      ],
      "execution_count": null,
      "outputs": []
    },
    {
      "cell_type": "markdown",
      "metadata": {
        "id": "HoYZWpbIMCsL"
      },
      "source": [
        "# **Uploading files**\n"
      ]
    },
    {
      "cell_type": "code",
      "metadata": {
        "id": "JY09WK8_MGO7",
        "colab": {
          "resources": {
            "http://localhost:8080/nbextensions/google.colab/files.js": {
              "data": "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",
              "ok": true,
              "headers": [
                [
                  "content-type",
                  "application/javascript"
                ]
              ],
              "status": 200,
              "status_text": ""
            }
          },
          "base_uri": "https://localhost:8080/",
          "height": 73
        },
        "outputId": "bcd88847-f896-4366-aa64-68566b84a109"
      },
      "source": [
        "from google.colab import files\n",
        "uploaded = files.upload()\n",
        "\n",
        "## for fn in uploaded.keys():\n",
        "##   print('User uploaded file \"{name}\" with length {length} bytes'.format(\n",
        "##       name=fn, length=len(uploaded[fn])))"
      ],
      "execution_count": null,
      "outputs": [
        {
          "output_type": "display_data",
          "data": {
            "text/html": [
              "\n",
              "     <input type=\"file\" id=\"files-1314c307-fbe2-4b86-95b0-a6f2991ef0a5\" name=\"files[]\" multiple disabled\n",
              "        style=\"border:none\" />\n",
              "     <output id=\"result-1314c307-fbe2-4b86-95b0-a6f2991ef0a5\">\n",
              "      Upload widget is only available when the cell has been executed in the\n",
              "      current browser session. Please rerun this cell to enable.\n",
              "      </output>\n",
              "      <script src=\"/nbextensions/google.colab/files.js\"></script> "
            ],
            "text/plain": [
              "<IPython.core.display.HTML object>"
            ]
          },
          "metadata": {}
        },
        {
          "output_type": "stream",
          "name": "stdout",
          "text": [
            "Saving sysdigIO_v2.txt to sysdigIO_v2.txt\n"
          ]
        }
      ]
    },
    {
      "cell_type": "code",
      "metadata": {
        "id": "c_mRFKD41Icu"
      },
      "source": [
        "# f = open('sys.txt', 'r')\n",
        "# file_contents = f.read()\n",
        "# print (file_contents)\n",
        "# f.close()"
      ],
      "execution_count": null,
      "outputs": []
    },
    {
      "cell_type": "markdown",
      "metadata": {
        "id": "lcZj6XUvjnnV"
      },
      "source": [
        "**With the following line of code, I was successfully able to find all the parent and child processes with time stamps from the sysdigIO file.**"
      ]
    },
    {
      "cell_type": "code",
      "metadata": {
        "id": "o5nsaWhmzwh_"
      },
      "source": [
        "def find_between( l, first, last ):\n",
        "    try:\n",
        "        start = l.index( first ) + len( '' )\n",
        "        end = l.index( last, start )\n",
        "        return l[start:end]\n",
        "    except ValueError:\n",
        "        return \"\"\n",
        "\n",
        "# print(find_between(st, \"tid\", \"cwd\" ))"
      ],
      "execution_count": null,
      "outputs": []
    },
    {
      "cell_type": "code",
      "metadata": {
        "id": "_MX6Mbk92Kc3",
        "colab": {
          "base_uri": "https://localhost:8080/",
          "height": 235
        },
        "outputId": "06ca6440-17d8-4fd7-d4f8-16501fe1a8c9"
      },
      "source": [
        "## with open('systest_lab.txt') as f:\n",
        "##     # lines = f.readlines()\n",
        "##     contents = f.read()\n",
        "##     print(contents)\n",
        "\n",
        "## f = open('systest_lab.txt','rt')\n",
        "## contents = f.read()\n",
        "## print(contents)\n",
        "\n",
        "\n",
        "##### uncomment the follwing code, it worked\n",
        "l = []\n",
        "f = open('sysdigIO.txt','r')\n",
        "for line in f:\n",
        "  # print(line)\n",
        "  if '< execve' in line:\n",
        "    # print(line);\n",
        "    # l.append(line)\n",
        "    st = line\n",
        "    # print(st.split()[1])\n",
        "    st1 = find_between(st, \"tid\", \"cwd\" ) #find the tid, pid and ptid\n",
        "    # print(st.split()[1]+ \" \"+ st1) \n",
        "    print(st.split()[1]+ \" \"+ st1.split()[-1]+\" \"+st1.split()[-2])\n",
        "\n",
        "##print(st) #except this one"
      ],
      "execution_count": null,
      "outputs": [
        {
          "output_type": "error",
          "ename": "FileNotFoundError",
          "evalue": "ignored",
          "traceback": [
            "\u001b[0;31m---------------------------------------------------------------------------\u001b[0m",
            "\u001b[0;31mFileNotFoundError\u001b[0m                         Traceback (most recent call last)",
            "\u001b[0;32m<ipython-input-3-7550f00043e4>\u001b[0m in \u001b[0;36m<module>\u001b[0;34m()\u001b[0m\n\u001b[1;32m     11\u001b[0m \u001b[0;31m##### uncomment the follwing code, it worked\u001b[0m\u001b[0;34m\u001b[0m\u001b[0;34m\u001b[0m\u001b[0;34m\u001b[0m\u001b[0m\n\u001b[1;32m     12\u001b[0m \u001b[0ml\u001b[0m \u001b[0;34m=\u001b[0m \u001b[0;34m[\u001b[0m\u001b[0;34m]\u001b[0m\u001b[0;34m\u001b[0m\u001b[0;34m\u001b[0m\u001b[0m\n\u001b[0;32m---> 13\u001b[0;31m \u001b[0mf\u001b[0m \u001b[0;34m=\u001b[0m \u001b[0mopen\u001b[0m\u001b[0;34m(\u001b[0m\u001b[0;34m'sysdigIO.txt'\u001b[0m\u001b[0;34m,\u001b[0m\u001b[0;34m'r'\u001b[0m\u001b[0;34m)\u001b[0m\u001b[0;34m\u001b[0m\u001b[0;34m\u001b[0m\u001b[0m\n\u001b[0m\u001b[1;32m     14\u001b[0m \u001b[0;32mfor\u001b[0m \u001b[0mline\u001b[0m \u001b[0;32min\u001b[0m \u001b[0mf\u001b[0m\u001b[0;34m:\u001b[0m\u001b[0;34m\u001b[0m\u001b[0;34m\u001b[0m\u001b[0m\n\u001b[1;32m     15\u001b[0m   \u001b[0;31m# print(line)\u001b[0m\u001b[0;34m\u001b[0m\u001b[0;34m\u001b[0m\u001b[0;34m\u001b[0m\u001b[0m\n",
            "\u001b[0;31mFileNotFoundError\u001b[0m: [Errno 2] No such file or directory: 'sysdigIO.txt'"
          ]
        }
      ]
    },
    {
      "cell_type": "markdown",
      "metadata": {
        "id": "2ScG9QMgDnmd"
      },
      "source": [
        "Following line of code will give me the socket connection with the destination ip and the "
      ]
    },
    {
      "cell_type": "code",
      "metadata": {
        "id": "_0gmwqzk-yU2",
        "colab": {
          "base_uri": "https://localhost:8080/"
        },
        "outputId": "fce10a41-7fbf-4d19-b1e1-9827dca54701"
      },
      "source": [
        "l = []\n",
        "f = open('sysdigIO.txt','r')\n",
        "for line in f:\n",
        "  # print(line)\n",
        "  if '< write' in line:\n",
        "    # print(line)\n",
        "    # l.append(line)\n",
        "    if 'data=Connecting to ' in line:\n",
        "      # print(line)\n",
        "      st = line\n",
        "      print(st.split()[-1])\n",
        "      # st1 = find_between(st, \"tid\", \"cwd\" )\n",
        "      # print(st1)\n",
        "\n",
        "\n"
      ],
      "execution_count": null,
      "outputs": [
        {
          "output_type": "stream",
          "name": "stdout",
          "text": [
            "(github.com)|192.30.255.113|:443...\n",
            "(codeload.github.com)|140.82.112.10|:443...\n"
          ]
        }
      ]
    },
    {
      "cell_type": "markdown",
      "metadata": {
        "id": "9zRQxTo_PfW_"
      },
      "source": [
        "Using the following code, I can find the specific writing going on by tar"
      ]
    },
    {
      "cell_type": "code",
      "metadata": {
        "id": "U3Wm79kiOJsj",
        "colab": {
          "base_uri": "https://localhost:8080/"
        },
        "outputId": "c9118c0e-16f4-444a-d070-93521aad967d"
      },
      "source": [
        "l = []\n",
        "f = open('sysdigIO.txt','r')\n",
        "flag_file = 0\n",
        "for line in f:\n",
        "  # print(line)\n",
        "  if ((flag_file == 0) and ('tar' in line) and ('> write fd=3' in line)) :\n",
        "    # if 'tar' in line: \n",
        "      # if '> write fd=3' in line:\n",
        "        # print(line)\n",
        "        # l.append(line)\n",
        "        st = line\n",
        "        # print(st.split()[-2])\n",
        "        # st1 = find_between(st, \"<f>\", \") size\" )\n",
        "        # print(st)\n",
        "        start = '<f>'\n",
        "        end = ') size'\n",
        "        print((st.split(start))[1].split(end)[0])\n",
        "        # print(st1)\n",
        "        flag_file = 1\n",
        "\n"
      ],
      "execution_count": null,
      "outputs": [
        {
          "output_type": "stream",
          "name": "stdout",
          "text": [
            "/home/raihan/Research/book.tar\n"
          ]
        }
      ]
    },
    {
      "cell_type": "markdown",
      "metadata": {
        "id": "OYOYZfnzprn3"
      },
      "source": [
        "--- \n",
        "# Generating Graph on **systest**"
      ]
    },
    {
      "cell_type": "code",
      "metadata": {
        "colab": {
          "base_uri": "https://localhost:8080/",
          "height": 196
        },
        "id": "PNfbe-qPf-8T",
        "outputId": "d5d2b74c-60f4-4abe-ebe1-ed637cd91cda"
      },
      "source": [
        "##parent child relation\n",
        "\n",
        "import graphviz\n",
        "from graphviz import Graph\n",
        "\n",
        "# g = Graph('G', filename='process.gv', engine='sfdp')\n",
        "g = graphviz.Digraph()\n",
        "# length = len(relation)\n",
        "\n",
        "l = []\n",
        "f = open('systest_lab.txt','r')\n",
        "\n",
        "flag_file = 0\n",
        "\n",
        "for line in f:\n",
        "  # print(line)\n",
        "  # finding the parent child relation\n",
        "  if '< execve' in line:\n",
        "    # print(line)\n",
        "    # l.append(line)\n",
        "    st = line\n",
        "    # print(st.split()[1])\n",
        "    st1 = find_between(st, \"tid\", \"cwd\" ) #find the tid, pid and ptid\n",
        "    # print(st.split()[1]+ \" \"+ st1) \n",
        "    # print(st.split()[1]+ \" \"+ st1.split()[-1]+\" \"+st1.split()[-2])\n",
        "    # print(st)\n",
        "    time = st.split()[1]\n",
        "    time = time.replace(\":\",\" \")\n",
        "    child = time +\" \"+st1.split()[-2]\n",
        "    parent = st1.split()[-1]\n",
        "\n",
        "    flag = 0\n",
        "    for i, val in enumerate(l):\n",
        "      if parent==val:\n",
        "        flag = 1\n",
        "    if flag == 0:\n",
        "      l.append(parent)\n",
        "      g.node(parent)\n",
        "\n",
        "    flag = 0\n",
        "    for i, val in enumerate(l):\n",
        "      if child==val:\n",
        "        flag = 1\n",
        "    if flag == 0:\n",
        "      l.append(child)\n",
        "      g.node(child)\n",
        "    \n",
        "    g.edge(parent, child)\n",
        "    \n",
        "\n",
        "  # socket connection\n",
        "  if 'data=Connecting to ' in line:\n",
        "    # print(line)\n",
        "    st = line\n",
        "    # print(st.split()[-1])\n",
        "    # print(st.split()[3])\n",
        "    process = st.split()[3]\n",
        "    destination_ip = st.split()[-1]\n",
        "    destination_ip = destination_ip.replace(\":\",\" \")\n",
        "\n",
        "    # print(process)\n",
        "    # flag = 0\n",
        "    for i, val in enumerate(l):\n",
        "      if process in val:\n",
        "        process = val\n",
        "        # print(process)\n",
        "    # if flag == 0:\n",
        "    #   g.node(process)\n",
        "\n",
        "    flag = 0\n",
        "    for i, val in enumerate(l):\n",
        "      if destination_ip==val:\n",
        "        flag = 1\n",
        "    if flag == 0:\n",
        "      l.append(destination_ip)\n",
        "      g.node(destination_ip)\n",
        "    \n",
        "    g.edge(destination_ip, process)\n",
        "\n",
        "  #iterating over writing only one time\n",
        "  if flag_file == 0:\n",
        "    if 'tar' in line:\n",
        "      if '> write fd=3' in line:\n",
        "        flag_file = 1\n",
        "        st = line\n",
        "        # print(st.split()[-2])\n",
        "        # st1 = find_between(st, \"<f>\", \") size\" )\n",
        "        # print(st)\n",
        "        start = '<f>'\n",
        "        end = ') size'\n",
        "\n",
        "        file_path = (st.split(start))[1].split(end)[0]\n",
        "        # print((st.split(start))[1].split(end)[0])\n",
        "\n",
        "        process = 'tar'\n",
        "        for i, val in enumerate(l):\n",
        "          if process in val:\n",
        "            process = val\n",
        "            # print(process)\n",
        "\n",
        "        #addin file path to the set of nodes\n",
        "        flag = 0\n",
        "        for i, val in enumerate(l):\n",
        "          if file_path==val:\n",
        "            flag = 1\n",
        "        if flag == 0:\n",
        "          l.append(file_path)\n",
        "          g.node(file_path)\n",
        "        \n",
        "        g.edge(file_path, process)\n",
        "\n",
        "# g.view()\n",
        "\n",
        "g.render('Backtracker.gv.pdf', view=True)\n",
        "\n",
        "# print('Backtracker.gv.pdf')\n",
        "\n",
        "with open(\"Backtracker.gv.pdf\") as f:\n",
        "    dot_graph = f.read()\n",
        "graphviz.Source(dot_graph)"
      ],
      "execution_count": null,
      "outputs": [
        {
          "output_type": "execute_result",
          "data": {
            "text/plain": [
              "<graphviz.files.Source at 0x7f27c5d5b910>"
            ],
            "image/svg+xml": "<?xml version=\"1.0\" encoding=\"UTF-8\" standalone=\"no\"?>\n<!DOCTYPE svg PUBLIC \"-//W3C//DTD SVG 1.1//EN\"\n \"http://www.w3.org/Graphics/SVG/1.1/DTD/svg11.dtd\">\n<!-- Generated by graphviz version 2.40.1 (20161225.0304)\n -->\n<!-- Title: %3 Pages: 1 -->\n<svg width=\"1247pt\" height=\"116pt\"\n viewBox=\"0.00 0.00 1246.77 116.00\" xmlns=\"http://www.w3.org/2000/svg\" xmlns:xlink=\"http://www.w3.org/1999/xlink\">\n<g id=\"graph0\" class=\"graph\" transform=\"scale(1 1) rotate(0) translate(4 112)\">\n<title>%3</title>\n<polygon fill=\"#ffffff\" stroke=\"transparent\" points=\"-4,4 -4,-112 1242.7739,-112 1242.7739,4 -4,4\"/>\n<!-- ptid=5893(bash) -->\n<g id=\"node1\" class=\"node\">\n<title>ptid=5893(bash)</title>\n<ellipse fill=\"none\" stroke=\"#000000\" cx=\"787.1869\" cy=\"-90\" rx=\"73.387\" ry=\"18\"/>\n<text text-anchor=\"middle\" x=\"787.1869\" y=\"-86.3\" font-family=\"Times,serif\" font-size=\"14.00\" fill=\"#000000\">ptid=5893(bash)</text>\n</g>\n<!-- 17 45 59.859870162 pid=6494(wget) -->\n<g id=\"node2\" class=\"node\">\n<title>17 45 59.859870162 pid=6494(wget)</title>\n<ellipse fill=\"none\" stroke=\"#000000\" cx=\"472.1869\" cy=\"-18\" rx=\"154.8728\" ry=\"18\"/>\n<text text-anchor=\"middle\" x=\"472.1869\" y=\"-14.3\" font-family=\"Times,serif\" font-size=\"14.00\" fill=\"#000000\">17 45 59.859870162 pid=6494(wget)</text>\n</g>\n<!-- ptid=5893(bash)&#45;&gt;17 45 59.859870162 pid=6494(wget) -->\n<g id=\"edge1\" class=\"edge\">\n<title>ptid=5893(bash)&#45;&gt;17 45 59.859870162 pid=6494(wget)</title>\n<path fill=\"none\" stroke=\"#000000\" d=\"M733.3943,-77.7046C683.7476,-66.3567 609.3523,-49.3521 552.6406,-36.3894\"/>\n<polygon fill=\"#000000\" stroke=\"#000000\" points=\"553.1543,-32.9167 542.6258,-34.1003 551.5945,-39.7407 553.1543,-32.9167\"/>\n</g>\n<!-- 17 46 04.931651266 pid=6498(ls) -->\n<g id=\"node3\" class=\"node\">\n<title>17 46 04.931651266 pid=6498(ls)</title>\n<ellipse fill=\"none\" stroke=\"#000000\" cx=\"787.1869\" cy=\"-18\" rx=\"142.1749\" ry=\"18\"/>\n<text text-anchor=\"middle\" x=\"787.1869\" y=\"-14.3\" font-family=\"Times,serif\" font-size=\"14.00\" fill=\"#000000\">17 46 04.931651266 pid=6498(ls)</text>\n</g>\n<!-- ptid=5893(bash)&#45;&gt;17 46 04.931651266 pid=6498(ls) -->\n<g id=\"edge2\" class=\"edge\">\n<title>ptid=5893(bash)&#45;&gt;17 46 04.931651266 pid=6498(ls)</title>\n<path fill=\"none\" stroke=\"#000000\" d=\"M787.1869,-71.8314C787.1869,-64.131 787.1869,-54.9743 787.1869,-46.4166\"/>\n<polygon fill=\"#000000\" stroke=\"#000000\" points=\"790.687,-46.4132 787.1869,-36.4133 783.687,-46.4133 790.687,-46.4132\"/>\n</g>\n<!-- 17 46 30.013918828 pid=6521(tar) -->\n<g id=\"node6\" class=\"node\">\n<title>17 46 30.013918828 pid=6521(tar)</title>\n<ellipse fill=\"none\" stroke=\"#000000\" cx=\"1093.1869\" cy=\"-18\" rx=\"145.6742\" ry=\"18\"/>\n<text text-anchor=\"middle\" x=\"1093.1869\" y=\"-14.3\" font-family=\"Times,serif\" font-size=\"14.00\" fill=\"#000000\">17 46 30.013918828 pid=6521(tar)</text>\n</g>\n<!-- ptid=5893(bash)&#45;&gt;17 46 30.013918828 pid=6521(tar) -->\n<g id=\"edge5\" class=\"edge\">\n<title>ptid=5893(bash)&#45;&gt;17 46 30.013918828 pid=6521(tar)</title>\n<path fill=\"none\" stroke=\"#000000\" d=\"M840.488,-77.4586C888.7672,-66.0987 960.5052,-49.2192 1015.2243,-36.3441\"/>\n<polygon fill=\"#000000\" stroke=\"#000000\" points=\"1016.3015,-39.6863 1025.234,-33.9889 1014.6981,-32.8724 1016.3015,-39.6863\"/>\n</g>\n<!-- (github.com)|192.30.255.113| 443... -->\n<g id=\"node4\" class=\"node\">\n<title>(github.com)|192.30.255.113| 443...</title>\n<ellipse fill=\"none\" stroke=\"#000000\" cx=\"148.1869\" cy=\"-90\" rx=\"148.3739\" ry=\"18\"/>\n<text text-anchor=\"middle\" x=\"148.1869\" y=\"-86.3\" font-family=\"Times,serif\" font-size=\"14.00\" fill=\"#000000\">(github.com)|192.30.255.113| 443...</text>\n</g>\n<!-- (github.com)|192.30.255.113| 443...&#45;&gt;17 45 59.859870162 pid=6494(wget) -->\n<g id=\"edge3\" class=\"edge\">\n<title>(github.com)|192.30.255.113| 443...&#45;&gt;17 45 59.859870162 pid=6494(wget)</title>\n<path fill=\"none\" stroke=\"#000000\" d=\"M219.29,-74.1993C269.7776,-62.9798 337.6802,-47.8904 390.4124,-36.1721\"/>\n<polygon fill=\"#000000\" stroke=\"#000000\" points=\"391.4077,-39.5364 400.4103,-33.9503 389.8892,-32.7031 391.4077,-39.5364\"/>\n</g>\n<!-- (codeload.github.com)|140.82.112.10| 443... -->\n<g id=\"node5\" class=\"node\">\n<title>(codeload.github.com)|140.82.112.10| 443...</title>\n<ellipse fill=\"none\" stroke=\"#000000\" cx=\"494.1869\" cy=\"-90\" rx=\"179.2682\" ry=\"18\"/>\n<text text-anchor=\"middle\" x=\"494.1869\" y=\"-86.3\" font-family=\"Times,serif\" font-size=\"14.00\" fill=\"#000000\">(codeload.github.com)|140.82.112.10| 443...</text>\n</g>\n<!-- (codeload.github.com)|140.82.112.10| 443...&#45;&gt;17 45 59.859870162 pid=6494(wget) -->\n<g id=\"edge4\" class=\"edge\">\n<title>(codeload.github.com)|140.82.112.10| 443...&#45;&gt;17 45 59.859870162 pid=6494(wget)</title>\n<path fill=\"none\" stroke=\"#000000\" d=\"M488.6353,-71.8314C486.2566,-64.0463 483.423,-54.7729 480.7836,-46.1347\"/>\n<polygon fill=\"#000000\" stroke=\"#000000\" points=\"484.0826,-44.954 477.8131,-36.4133 477.3882,-46.9996 484.0826,-44.954\"/>\n</g>\n<!-- /home/raihan/Research/book.tar -->\n<g id=\"node7\" class=\"node\">\n<title>/home/raihan/Research/book.tar</title>\n<ellipse fill=\"none\" stroke=\"#000000\" cx=\"1093.1869\" cy=\"-90\" rx=\"128.8774\" ry=\"18\"/>\n<text text-anchor=\"middle\" x=\"1093.1869\" y=\"-86.3\" font-family=\"Times,serif\" font-size=\"14.00\" fill=\"#000000\">/home/raihan/Research/book.tar</text>\n</g>\n<!-- /home/raihan/Research/book.tar&#45;&gt;17 46 30.013918828 pid=6521(tar) -->\n<g id=\"edge6\" class=\"edge\">\n<title>/home/raihan/Research/book.tar&#45;&gt;17 46 30.013918828 pid=6521(tar)</title>\n<path fill=\"none\" stroke=\"#000000\" d=\"M1093.1869,-71.8314C1093.1869,-64.131 1093.1869,-54.9743 1093.1869,-46.4166\"/>\n<polygon fill=\"#000000\" stroke=\"#000000\" points=\"1096.687,-46.4132 1093.1869,-36.4133 1089.687,-46.4133 1096.687,-46.4132\"/>\n</g>\n</g>\n</svg>\n"
          },
          "metadata": {},
          "execution_count": 17
        }
      ]
    },
    {
      "cell_type": "markdown",
      "metadata": {
        "id": "IziSwQjw0rlM"
      },
      "source": [
        "---\n",
        "---\n",
        "# **Generating graph on the \\*\\*whole dataset\\*\\***\n",
        "---\n",
        "\n",
        "\n"
      ]
    },
    {
      "cell_type": "code",
      "metadata": {
        "colab": {
          "base_uri": "https://localhost:8080/",
          "height": 388
        },
        "id": "b8_HGFyN0qi5",
        "outputId": "ed5c6fb3-4b57-4d24-a278-aaf66cc9c6f8"
      },
      "source": [
        "##parent child relation\n",
        "\n",
        "import graphviz\n",
        "from graphviz import Graph\n",
        "\n",
        "# g = Graph('G', filename='process.gv', engine='sfdp')\n",
        "g = graphviz.Digraph()\n",
        "# length = len(relation)\n",
        "\n",
        "l = []\n",
        "f = open('sysdigIO.txt','r')\n",
        "\n",
        "flag_file = 0\n",
        "\n",
        "for line in f:\n",
        "  # print(line)\n",
        "  # finding the parent child relation\n",
        "  if '< execve' in line:\n",
        "    # print(line)\n",
        "    # l.append(line)\n",
        "    st = line\n",
        "    # print(st.split()[1])\n",
        "    st1 = find_between(st, \"tid\", \"cwd\" ) #find the tid, pid and ptid\n",
        "    # print(st.split()[1]+ \" \"+ st1) \n",
        "    # print(st.split()[1]+ \" \"+ st1.split()[-1]+\" \"+st1.split()[-2])\n",
        "    # print(st)\n",
        "    time = st.split()[1]\n",
        "    time = time.replace(\":\",\" \")\n",
        "    child = time +\" \"+st1.split()[-2]\n",
        "    parent = st1.split()[-1]\n",
        "    # print(parent)\n",
        "    parent_id = (parent.split(\"ptid=\"))[1].split(\")\")[0]\n",
        "    # print(parent_id)\n",
        "\n",
        "    flag = 0\n",
        "    for i, val in enumerate(l):\n",
        "      if parent_id in val:\n",
        "        parent = val\n",
        "        flag = 1\n",
        "    if flag == 0:\n",
        "      l.append(parent)\n",
        "      g.node(parent)\n",
        "\n",
        "    flag = 0\n",
        "    for i, val in enumerate(l):\n",
        "      if child==val:\n",
        "        flag = 1\n",
        "    if flag == 0:\n",
        "      l.append(child)\n",
        "      g.node(child)\n",
        "    \n",
        "    g.edge(parent, child)\n",
        "    \n",
        "\n",
        "  # socket connection\n",
        "  if 'data=Connecting to ' in line:\n",
        "    # print(line)\n",
        "    st = line\n",
        "    # print(st.split()[-1])\n",
        "    # print(st.split()[3])\n",
        "    process = st.split()[3]\n",
        "    destination_ip = st.split()[-1]\n",
        "    destination_ip = destination_ip.replace(\":\",\" \")\n",
        "\n",
        "    # print(process)\n",
        "    # flag = 0\n",
        "    for i, val in enumerate(l):\n",
        "      if process in val:\n",
        "        process = val\n",
        "        # print(process)\n",
        "    # if flag == 0:\n",
        "    #   g.node(process)\n",
        "\n",
        "    flag = 0\n",
        "    for i, val in enumerate(l):\n",
        "      if destination_ip==val:\n",
        "        flag = 1\n",
        "    if flag == 0:\n",
        "      l.append(destination_ip)\n",
        "      g.node(destination_ip)\n",
        "    \n",
        "    g.edge(destination_ip, process)\n",
        "\n",
        "  #File to process\n",
        "  # flag file is to iterate over writing only one time\n",
        "  if flag_file == 0:\n",
        "    if 'tar' in line:\n",
        "      if '> write fd=3' in line:\n",
        "        flag_file = 1\n",
        "        st = line\n",
        "        # print(st.split()[-2])\n",
        "        # st1 = find_between(st, \"<f>\", \") size\" )\n",
        "        # print(st)\n",
        "        start = '<f>'\n",
        "        end = ') size'\n",
        "\n",
        "        file_path = (st.split(start))[1].split(end)[0]\n",
        "        # print((st.split(start))[1].split(end)[0])\n",
        "        # process = (st.split(\"(\"))[1].split(\")\")[0]+\"(tar)\"\n",
        "        process = (st.split(\"(\"))[1].split(\")\")[0]\n",
        "        for i, val in enumerate(l):\n",
        "          if process in val:\n",
        "            process = val\n",
        "            # print(process)\n",
        "\n",
        "        #addin file path to the set of nodes\n",
        "        flag = 0\n",
        "        for i, val in enumerate(l):\n",
        "          if file_path==val:\n",
        "            flag = 1\n",
        "        if flag == 0:\n",
        "          l.append(file_path)\n",
        "          g.node(file_path)\n",
        "        \n",
        "        g.edge(process, file_path)\n",
        "\n",
        "# g.view()\n",
        "\n",
        "g.render('Backtracker.gv.pdf', view=True)\n",
        "\n",
        "# print('Backtracker.gv.pdf')\n",
        "\n",
        "with open(\"Backtracker.gv.pdf\") as f:\n",
        "    dot_graph = f.read()\n",
        "graphviz.Source(dot_graph)"
      ],
      "execution_count": null,
      "outputs": [
        {
          "output_type": "execute_result",
          "data": {
            "text/plain": [
              "<graphviz.files.Source at 0x7f27c5dd9c90>"
            ],
            "image/svg+xml": "<?xml version=\"1.0\" encoding=\"UTF-8\" standalone=\"no\"?>\n<!DOCTYPE svg PUBLIC \"-//W3C//DTD SVG 1.1//EN\"\n \"http://www.w3.org/Graphics/SVG/1.1/DTD/svg11.dtd\">\n<!-- Generated by graphviz version 2.40.1 (20161225.0304)\n -->\n<!-- Title: %3 Pages: 1 -->\n<svg width=\"9796pt\" height=\"260pt\"\n viewBox=\"0.00 0.00 9796.22 260.00\" xmlns=\"http://www.w3.org/2000/svg\" xmlns:xlink=\"http://www.w3.org/1999/xlink\">\n<g id=\"graph0\" class=\"graph\" transform=\"scale(1 1) rotate(0) translate(4 256)\">\n<title>%3</title>\n<polygon fill=\"#ffffff\" stroke=\"transparent\" points=\"-4,4 -4,-256 9792.222,-256 9792.222,4 -4,4\"/>\n<!-- ptid=5893(bash) -->\n<g id=\"node1\" class=\"node\">\n<title>ptid=5893(bash)</title>\n<ellipse fill=\"none\" stroke=\"#000000\" cx=\"1425.1869\" cy=\"-234\" rx=\"73.387\" ry=\"18\"/>\n<text text-anchor=\"middle\" x=\"1425.1869\" y=\"-230.3\" font-family=\"Times,serif\" font-size=\"14.00\" fill=\"#000000\">ptid=5893(bash)</text>\n</g>\n<!-- 17 45 59.859870162 pid=6494(wget) -->\n<g id=\"node2\" class=\"node\">\n<title>17 45 59.859870162 pid=6494(wget)</title>\n<ellipse fill=\"none\" stroke=\"#000000\" cx=\"321.1869\" cy=\"-162\" rx=\"154.8728\" ry=\"18\"/>\n<text text-anchor=\"middle\" x=\"321.1869\" y=\"-158.3\" font-family=\"Times,serif\" font-size=\"14.00\" fill=\"#000000\">17 45 59.859870162 pid=6494(wget)</text>\n</g>\n<!-- ptid=5893(bash)&#45;&gt;17 45 59.859870162 pid=6494(wget) -->\n<g id=\"edge1\" class=\"edge\">\n<title>ptid=5893(bash)&#45;&gt;17 45 59.859870162 pid=6494(wget)</title>\n<path fill=\"none\" stroke=\"#000000\" d=\"M1352.5644,-231.1148C1194.623,-224.5574 808.1282,-206.98 485.1869,-180 470.8079,-178.7987 455.7376,-177.3732 440.8048,-175.8583\"/>\n<polygon fill=\"#000000\" stroke=\"#000000\" points=\"440.8048,-172.3398 430.4988,-174.7968 440.0875,-179.303 440.8048,-172.3398\"/>\n</g>\n<!-- 17 46 04.931651266 pid=6498(ls) -->\n<g id=\"node5\" class=\"node\">\n<title>17 46 04.931651266 pid=6498(ls)</title>\n<ellipse fill=\"none\" stroke=\"#000000\" cx=\"636.1869\" cy=\"-162\" rx=\"142.1749\" ry=\"18\"/>\n<text text-anchor=\"middle\" x=\"636.1869\" y=\"-158.3\" font-family=\"Times,serif\" font-size=\"14.00\" fill=\"#000000\">17 46 04.931651266 pid=6498(ls)</text>\n</g>\n<!-- ptid=5893(bash)&#45;&gt;17 46 04.931651266 pid=6498(ls) -->\n<g id=\"edge4\" class=\"edge\">\n<title>ptid=5893(bash)&#45;&gt;17 46 04.931651266 pid=6498(ls)</title>\n<path fill=\"none\" stroke=\"#000000\" d=\"M1354.4186,-228.7746C1236.7714,-219.914 993.5659,-200.86 788.1869,-180 775.3359,-178.6947 761.8849,-177.2362 748.5251,-175.7296\"/>\n<polygon fill=\"#000000\" stroke=\"#000000\" points=\"748.6698,-172.2236 738.338,-174.5699 747.8779,-179.1786 748.6698,-172.2236\"/>\n</g>\n<!-- 17 46 10.771324402 pid=6507(unzip) -->\n<g id=\"node6\" class=\"node\">\n<title>17 46 10.771324402 pid=6507(unzip)</title>\n<ellipse fill=\"none\" stroke=\"#000000\" cx=\"954.1869\" cy=\"-162\" rx=\"157.0724\" ry=\"18\"/>\n<text text-anchor=\"middle\" x=\"954.1869\" y=\"-158.3\" font-family=\"Times,serif\" font-size=\"14.00\" fill=\"#000000\">17 46 10.771324402 pid=6507(unzip)</text>\n</g>\n<!-- ptid=5893(bash)&#45;&gt;17 46 10.771324402 pid=6507(unzip) -->\n<g id=\"edge5\" class=\"edge\">\n<title>ptid=5893(bash)&#45;&gt;17 46 10.771324402 pid=6507(unzip)</title>\n<path fill=\"none\" stroke=\"#000000\" d=\"M1362.6417,-224.439C1285.1396,-212.5915 1151.9403,-192.2298 1058.787,-177.9898\"/>\n<polygon fill=\"#000000\" stroke=\"#000000\" points=\"1059.1825,-174.5097 1048.7684,-176.4583 1058.1246,-181.4293 1059.1825,-174.5097\"/>\n</g>\n<!-- 17 46 16.820030500 pid=6517(ls) -->\n<g id=\"node11\" class=\"node\">\n<title>17 46 16.820030500 pid=6517(ls)</title>\n<ellipse fill=\"none\" stroke=\"#000000\" cx=\"1272.1869\" cy=\"-162\" rx=\"142.1749\" ry=\"18\"/>\n<text text-anchor=\"middle\" x=\"1272.1869\" y=\"-158.3\" font-family=\"Times,serif\" font-size=\"14.00\" fill=\"#000000\">17 46 16.820030500 pid=6517(ls)</text>\n</g>\n<!-- ptid=5893(bash)&#45;&gt;17 46 16.820030500 pid=6517(ls) -->\n<g id=\"edge9\" class=\"edge\">\n<title>ptid=5893(bash)&#45;&gt;17 46 16.820030500 pid=6517(ls)</title>\n<path fill=\"none\" stroke=\"#000000\" d=\"M1391.2312,-218.0209C1369.7804,-207.9264 1341.7858,-194.7525 1318.3337,-183.7162\"/>\n<polygon fill=\"#000000\" stroke=\"#000000\" points=\"1319.799,-180.5376 1309.2605,-179.4464 1316.8184,-186.8713 1319.799,-180.5376\"/>\n</g>\n<!-- 17 46 25.063528549 pid=6518(tar) -->\n<g id=\"node12\" class=\"node\">\n<title>17 46 25.063528549 pid=6518(tar)</title>\n<ellipse fill=\"none\" stroke=\"#000000\" cx=\"1578.1869\" cy=\"-162\" rx=\"145.6742\" ry=\"18\"/>\n<text text-anchor=\"middle\" x=\"1578.1869\" y=\"-158.3\" font-family=\"Times,serif\" font-size=\"14.00\" fill=\"#000000\">17 46 25.063528549 pid=6518(tar)</text>\n</g>\n<!-- ptid=5893(bash)&#45;&gt;17 46 25.063528549 pid=6518(tar) -->\n<g id=\"edge10\" class=\"edge\">\n<title>ptid=5893(bash)&#45;&gt;17 46 25.063528549 pid=6518(tar)</title>\n<path fill=\"none\" stroke=\"#000000\" d=\"M1459.1425,-218.0209C1480.5933,-207.9264 1508.5879,-194.7525 1532.04,-183.7162\"/>\n<polygon fill=\"#000000\" stroke=\"#000000\" points=\"1533.5553,-186.8713 1541.1132,-179.4464 1530.5747,-180.5376 1533.5553,-186.8713\"/>\n</g>\n<!-- 17 46 30.013918828 pid=6521(tar) -->\n<g id=\"node13\" class=\"node\">\n<title>17 46 30.013918828 pid=6521(tar)</title>\n<ellipse fill=\"none\" stroke=\"#000000\" cx=\"1887.1869\" cy=\"-162\" rx=\"145.6742\" ry=\"18\"/>\n<text text-anchor=\"middle\" x=\"1887.1869\" y=\"-158.3\" font-family=\"Times,serif\" font-size=\"14.00\" fill=\"#000000\">17 46 30.013918828 pid=6521(tar)</text>\n</g>\n<!-- ptid=5893(bash)&#45;&gt;17 46 30.013918828 pid=6521(tar) -->\n<g id=\"edge11\" class=\"edge\">\n<title>ptid=5893(bash)&#45;&gt;17 46 30.013918828 pid=6521(tar)</title>\n<path fill=\"none\" stroke=\"#000000\" d=\"M1487.4942,-224.2898C1564.175,-212.3395 1695.3854,-191.8911 1786.4582,-177.698\"/>\n<polygon fill=\"#000000\" stroke=\"#000000\" points=\"1787.1845,-181.1271 1796.5263,-176.1289 1786.1066,-174.2106 1787.1845,-181.1271\"/>\n</g>\n<!-- 17 46 30.947867977 pid=6524(tar) -->\n<g id=\"node14\" class=\"node\">\n<title>17 46 30.947867977 pid=6524(tar)</title>\n<ellipse fill=\"none\" stroke=\"#000000\" cx=\"2196.1869\" cy=\"-162\" rx=\"145.6742\" ry=\"18\"/>\n<text text-anchor=\"middle\" x=\"2196.1869\" y=\"-158.3\" font-family=\"Times,serif\" font-size=\"14.00\" fill=\"#000000\">17 46 30.947867977 pid=6524(tar)</text>\n</g>\n<!-- ptid=5893(bash)&#45;&gt;17 46 30.947867977 pid=6524(tar) -->\n<g id=\"edge12\" class=\"edge\">\n<title>ptid=5893(bash)&#45;&gt;17 46 30.947867977 pid=6524(tar)</title>\n<path fill=\"none\" stroke=\"#000000\" d=\"M1495.5737,-228.5092C1610.1995,-219.4168 1844.2913,-200.2209 2042.1869,-180 2054.9904,-178.6917 2068.3832,-177.2443 2081.6986,-175.7552\"/>\n<polygon fill=\"#000000\" stroke=\"#000000\" points=\"2082.31,-179.2086 2091.8548,-174.6101 2081.5256,-172.2527 2082.31,-179.2086\"/>\n</g>\n<!-- 17 46 32.595589534 pid=6526(ls) -->\n<g id=\"node16\" class=\"node\">\n<title>17 46 32.595589534 pid=6526(ls)</title>\n<ellipse fill=\"none\" stroke=\"#000000\" cx=\"2502.1869\" cy=\"-162\" rx=\"142.1749\" ry=\"18\"/>\n<text text-anchor=\"middle\" x=\"2502.1869\" y=\"-158.3\" font-family=\"Times,serif\" font-size=\"14.00\" fill=\"#000000\">17 46 32.595589534 pid=6526(ls)</text>\n</g>\n<!-- ptid=5893(bash)&#45;&gt;17 46 32.595589534 pid=6526(ls) -->\n<g id=\"edge14\" class=\"edge\">\n<title>ptid=5893(bash)&#45;&gt;17 46 32.595589534 pid=6526(ls)</title>\n<path fill=\"none\" stroke=\"#000000\" d=\"M1497.9283,-231.254C1654.293,-225.0227 2033.981,-208.1294 2351.1869,-180 2364.4127,-178.8271 2378.2699,-177.4204 2391.9998,-175.9169\"/>\n<polygon fill=\"#000000\" stroke=\"#000000\" points=\"2392.4129,-179.3927 2401.964,-174.8071 2391.6379,-172.4357 2392.4129,-179.3927\"/>\n</g>\n<!-- (github.com)|192.30.255.113| 443... -->\n<g id=\"node3\" class=\"node\">\n<title>(github.com)|192.30.255.113| 443...</title>\n<ellipse fill=\"none\" stroke=\"#000000\" cx=\"148.1869\" cy=\"-234\" rx=\"148.3739\" ry=\"18\"/>\n<text text-anchor=\"middle\" x=\"148.1869\" y=\"-230.3\" font-family=\"Times,serif\" font-size=\"14.00\" fill=\"#000000\">(github.com)|192.30.255.113| 443...</text>\n</g>\n<!-- (github.com)|192.30.255.113| 443...&#45;&gt;17 45 59.859870162 pid=6494(wget) -->\n<g id=\"edge2\" class=\"edge\">\n<title>(github.com)|192.30.255.113| 443...&#45;&gt;17 45 59.859870162 pid=6494(wget)</title>\n<path fill=\"none\" stroke=\"#000000\" d=\"M190.0653,-216.5708C214.0953,-206.5699 244.4521,-193.9358 269.9036,-183.3433\"/>\n<polygon fill=\"#000000\" stroke=\"#000000\" points=\"271.5071,-186.4671 279.3946,-179.3933 268.8174,-180.0044 271.5071,-186.4671\"/>\n</g>\n<!-- (codeload.github.com)|140.82.112.10| 443... -->\n<g id=\"node4\" class=\"node\">\n<title>(codeload.github.com)|140.82.112.10| 443...</title>\n<ellipse fill=\"none\" stroke=\"#000000\" cx=\"494.1869\" cy=\"-234\" rx=\"179.2682\" ry=\"18\"/>\n<text text-anchor=\"middle\" x=\"494.1869\" y=\"-230.3\" font-family=\"Times,serif\" font-size=\"14.00\" fill=\"#000000\">(codeload.github.com)|140.82.112.10| 443...</text>\n</g>\n<!-- (codeload.github.com)|140.82.112.10| 443...&#45;&gt;17 45 59.859870162 pid=6494(wget) -->\n<g id=\"edge3\" class=\"edge\">\n<title>(codeload.github.com)|140.82.112.10| 443...&#45;&gt;17 45 59.859870162 pid=6494(wget)</title>\n<path fill=\"none\" stroke=\"#000000\" d=\"M451.8663,-216.3868C427.9172,-206.4196 397.7919,-193.8819 372.503,-183.357\"/>\n<polygon fill=\"#000000\" stroke=\"#000000\" points=\"373.6477,-180.0424 363.0705,-179.4313 370.958,-186.5051 373.6477,-180.0424\"/>\n</g>\n<!-- ptid=1(systemd) -->\n<g id=\"node7\" class=\"node\">\n<title>ptid=1(systemd)</title>\n<ellipse fill=\"none\" stroke=\"#000000\" cx=\"2885.1869\" cy=\"-234\" rx=\"71.4873\" ry=\"18\"/>\n<text text-anchor=\"middle\" x=\"2885.1869\" y=\"-230.3\" font-family=\"Times,serif\" font-size=\"14.00\" fill=\"#000000\">ptid=1(systemd)</text>\n</g>\n<!-- 17 46 12.617567284 pid=6508(nm&#45;dispatcher) -->\n<g id=\"node8\" class=\"node\">\n<title>17 46 12.617567284 pid=6508(nm&#45;dispatcher)</title>\n<ellipse fill=\"none\" stroke=\"#000000\" cx=\"2885.1869\" cy=\"-162\" rx=\"189.2665\" ry=\"18\"/>\n<text text-anchor=\"middle\" x=\"2885.1869\" y=\"-158.3\" font-family=\"Times,serif\" font-size=\"14.00\" fill=\"#000000\">17 46 12.617567284 pid=6508(nm&#45;dispatcher)</text>\n</g>\n<!-- ptid=1(systemd)&#45;&gt;17 46 12.617567284 pid=6508(nm&#45;dispatcher) -->\n<g id=\"edge6\" class=\"edge\">\n<title>ptid=1(systemd)&#45;&gt;17 46 12.617567284 pid=6508(nm&#45;dispatcher)</title>\n<path fill=\"none\" stroke=\"#000000\" d=\"M2885.1869,-215.8314C2885.1869,-208.131 2885.1869,-198.9743 2885.1869,-190.4166\"/>\n<polygon fill=\"#000000\" stroke=\"#000000\" points=\"2888.687,-190.4132 2885.1869,-180.4133 2881.687,-190.4133 2888.687,-190.4132\"/>\n</g>\n<!-- 17 46 12.630144360 pid=6513(01&#45;ifupdown) -->\n<g id=\"node9\" class=\"node\">\n<title>17 46 12.630144360 pid=6513(01&#45;ifupdown)</title>\n<ellipse fill=\"none\" stroke=\"#000000\" cx=\"2529.1869\" cy=\"-90\" rx=\"185.7671\" ry=\"18\"/>\n<text text-anchor=\"middle\" x=\"2529.1869\" y=\"-86.3\" font-family=\"Times,serif\" font-size=\"14.00\" fill=\"#000000\">17 46 12.630144360 pid=6513(01&#45;ifupdown)</text>\n</g>\n<!-- 17 46 12.617567284 pid=6508(nm&#45;dispatcher)&#45;&gt;17 46 12.630144360 pid=6513(01&#45;ifupdown) -->\n<g id=\"edge7\" class=\"edge\">\n<title>17 46 12.617567284 pid=6508(nm&#45;dispatcher)&#45;&gt;17 46 12.630144360 pid=6513(01&#45;ifupdown)</title>\n<path fill=\"none\" stroke=\"#000000\" d=\"M2804.4049,-145.6621C2749.4434,-134.5463 2676.6435,-119.8227 2619.7228,-108.3106\"/>\n<polygon fill=\"#000000\" stroke=\"#000000\" points=\"2620.1445,-104.8251 2609.6491,-106.2733 2618.7568,-111.6862 2620.1445,-104.8251\"/>\n</g>\n<!-- 17 46 12.748741134 pid=6514(01&#45;ifupdown) -->\n<g id=\"node10\" class=\"node\">\n<title>17 46 12.748741134 pid=6514(01&#45;ifupdown)</title>\n<ellipse fill=\"none\" stroke=\"#000000\" cx=\"2918.1869\" cy=\"-90\" rx=\"185.4674\" ry=\"18\"/>\n<text text-anchor=\"middle\" x=\"2918.1869\" y=\"-86.3\" font-family=\"Times,serif\" font-size=\"14.00\" fill=\"#000000\">17 46 12.748741134 pid=6514(01&#45;ifupdown)</text>\n</g>\n<!-- 17 46 12.617567284 pid=6508(nm&#45;dispatcher)&#45;&gt;17 46 12.748741134 pid=6514(01&#45;ifupdown) -->\n<g id=\"edge8\" class=\"edge\">\n<title>17 46 12.617567284 pid=6508(nm&#45;dispatcher)&#45;&gt;17 46 12.748741134 pid=6514(01&#45;ifupdown)</title>\n<path fill=\"none\" stroke=\"#000000\" d=\"M2893.5141,-143.8314C2897.1598,-135.8771 2901.5177,-126.369 2905.5496,-117.5723\"/>\n<polygon fill=\"#000000\" stroke=\"#000000\" points=\"2908.7626,-118.9622 2909.7474,-108.4133 2902.3991,-116.0456 2908.7626,-118.9622\"/>\n</g>\n<!-- /home/raihan/Research/book.tar -->\n<g id=\"node15\" class=\"node\">\n<title>/home/raihan/Research/book.tar</title>\n<ellipse fill=\"none\" stroke=\"#000000\" cx=\"2196.1869\" cy=\"-90\" rx=\"128.8774\" ry=\"18\"/>\n<text text-anchor=\"middle\" x=\"2196.1869\" y=\"-86.3\" font-family=\"Times,serif\" font-size=\"14.00\" fill=\"#000000\">/home/raihan/Research/book.tar</text>\n</g>\n<!-- 17 46 30.947867977 pid=6524(tar)&#45;&gt;/home/raihan/Research/book.tar -->\n<g id=\"edge13\" class=\"edge\">\n<title>17 46 30.947867977 pid=6524(tar)&#45;&gt;/home/raihan/Research/book.tar</title>\n<path fill=\"none\" stroke=\"#000000\" d=\"M2196.1869,-143.8314C2196.1869,-136.131 2196.1869,-126.9743 2196.1869,-118.4166\"/>\n<polygon fill=\"#000000\" stroke=\"#000000\" points=\"2199.687,-118.4132 2196.1869,-108.4133 2192.687,-118.4133 2199.687,-118.4132\"/>\n</g>\n<!-- ptid=6529(gnome&#45;terminal&#45;) -->\n<g id=\"node17\" class=\"node\">\n<title>ptid=6529(gnome&#45;terminal&#45;)</title>\n<ellipse fill=\"none\" stroke=\"#000000\" cx=\"3464.1869\" cy=\"-234\" rx=\"118.0794\" ry=\"18\"/>\n<text text-anchor=\"middle\" x=\"3464.1869\" y=\"-230.3\" font-family=\"Times,serif\" font-size=\"14.00\" fill=\"#000000\">ptid=6529(gnome&#45;terminal&#45;)</text>\n</g>\n<!-- 17 46 36.098901996 pid=6530(bash) -->\n<g id=\"node18\" class=\"node\">\n<title>17 46 36.098901996 pid=6530(bash)</title>\n<ellipse fill=\"none\" stroke=\"#000000\" cx=\"3464.1869\" cy=\"-162\" rx=\"153.2729\" ry=\"18\"/>\n<text text-anchor=\"middle\" x=\"3464.1869\" y=\"-158.3\" font-family=\"Times,serif\" font-size=\"14.00\" fill=\"#000000\">17 46 36.098901996 pid=6530(bash)</text>\n</g>\n<!-- ptid=6529(gnome&#45;terminal&#45;)&#45;&gt;17 46 36.098901996 pid=6530(bash) -->\n<g id=\"edge15\" class=\"edge\">\n<title>ptid=6529(gnome&#45;terminal&#45;)&#45;&gt;17 46 36.098901996 pid=6530(bash)</title>\n<path fill=\"none\" stroke=\"#000000\" d=\"M3464.1869,-215.8314C3464.1869,-208.131 3464.1869,-198.9743 3464.1869,-190.4166\"/>\n<polygon fill=\"#000000\" stroke=\"#000000\" points=\"3467.687,-190.4132 3464.1869,-180.4133 3460.687,-190.4133 3467.687,-190.4132\"/>\n</g>\n<!-- 17 46 36.100280310 pid=6531(lesspipe) -->\n<g id=\"node19\" class=\"node\">\n<title>17 46 36.100280310 pid=6531(lesspipe)</title>\n<ellipse fill=\"none\" stroke=\"#000000\" cx=\"3287.1869\" cy=\"-90\" rx=\"165.9709\" ry=\"18\"/>\n<text text-anchor=\"middle\" x=\"3287.1869\" y=\"-86.3\" font-family=\"Times,serif\" font-size=\"14.00\" fill=\"#000000\">17 46 36.100280310 pid=6531(lesspipe)</text>\n</g>\n<!-- 17 46 36.098901996 pid=6530(bash)&#45;&gt;17 46 36.100280310 pid=6531(lesspipe) -->\n<g id=\"edge16\" class=\"edge\">\n<title>17 46 36.098901996 pid=6530(bash)&#45;&gt;17 46 36.100280310 pid=6531(lesspipe)</title>\n<path fill=\"none\" stroke=\"#000000\" d=\"M3421.3401,-144.5708C3396.6462,-134.5258 3365.422,-121.8245 3339.312,-111.2034\"/>\n<polygon fill=\"#000000\" stroke=\"#000000\" points=\"3340.5272,-107.9193 3329.9454,-107.3933 3337.8896,-114.4034 3340.5272,-107.9193\"/>\n</g>\n<!-- 17 46 36.101861415 pid=6535(dircolors) -->\n<g id=\"node23\" class=\"node\">\n<title>17 46 36.101861415 pid=6535(dircolors)</title>\n<ellipse fill=\"none\" stroke=\"#000000\" cx=\"3640.1869\" cy=\"-90\" rx=\"168.97\" ry=\"18\"/>\n<text text-anchor=\"middle\" x=\"3640.1869\" y=\"-86.3\" font-family=\"Times,serif\" font-size=\"14.00\" fill=\"#000000\">17 46 36.101861415 pid=6535(dircolors)</text>\n</g>\n<!-- 17 46 36.098901996 pid=6530(bash)&#45;&gt;17 46 36.101861415 pid=6535(dircolors) -->\n<g id=\"edge19\" class=\"edge\">\n<title>17 46 36.098901996 pid=6530(bash)&#45;&gt;17 46 36.101861415 pid=6535(dircolors)</title>\n<path fill=\"none\" stroke=\"#000000\" d=\"M3506.7915,-144.5708C3531.2553,-134.5629 3562.1646,-121.9182 3588.0686,-111.3211\"/>\n<polygon fill=\"#000000\" stroke=\"#000000\" points=\"3589.4343,-114.544 3597.3645,-107.5182 3586.7838,-108.0652 3589.4343,-114.544\"/>\n</g>\n<!-- 17 46 36.100607725 pid=6532(basename) -->\n<g id=\"node20\" class=\"node\">\n<title>17 46 36.100607725 pid=6532(basename)</title>\n<ellipse fill=\"none\" stroke=\"#000000\" cx=\"3287.1869\" cy=\"-18\" rx=\"172.7694\" ry=\"18\"/>\n<text text-anchor=\"middle\" x=\"3287.1869\" y=\"-14.3\" font-family=\"Times,serif\" font-size=\"14.00\" fill=\"#000000\">17 46 36.100607725 pid=6532(basename)</text>\n</g>\n<!-- 17 46 36.100280310 pid=6531(lesspipe)&#45;&gt;17 46 36.100607725 pid=6532(basename) -->\n<g id=\"edge17\" class=\"edge\">\n<title>17 46 36.100280310 pid=6531(lesspipe)&#45;&gt;17 46 36.100607725 pid=6532(basename)</title>\n<path fill=\"none\" stroke=\"#000000\" d=\"M3287.1869,-71.8314C3287.1869,-64.131 3287.1869,-54.9743 3287.1869,-46.4166\"/>\n<polygon fill=\"#000000\" stroke=\"#000000\" points=\"3290.687,-46.4132 3287.1869,-36.4133 3283.687,-46.4133 3290.687,-46.4132\"/>\n</g>\n<!-- ptid=6533(lesspipe) -->\n<g id=\"node21\" class=\"node\">\n<title>ptid=6533(lesspipe)</title>\n<ellipse fill=\"none\" stroke=\"#000000\" cx=\"3993.1869\" cy=\"-234\" rx=\"85.2851\" ry=\"18\"/>\n<text text-anchor=\"middle\" x=\"3993.1869\" y=\"-230.3\" font-family=\"Times,serif\" font-size=\"14.00\" fill=\"#000000\">ptid=6533(lesspipe)</text>\n</g>\n<!-- 17 46 36.101145286 pid=6534(dirname) -->\n<g id=\"node22\" class=\"node\">\n<title>17 46 36.101145286 pid=6534(dirname)</title>\n<ellipse fill=\"none\" stroke=\"#000000\" cx=\"3993.1869\" cy=\"-162\" rx=\"166.2706\" ry=\"18\"/>\n<text text-anchor=\"middle\" x=\"3993.1869\" y=\"-158.3\" font-family=\"Times,serif\" font-size=\"14.00\" fill=\"#000000\">17 46 36.101145286 pid=6534(dirname)</text>\n</g>\n<!-- ptid=6533(lesspipe)&#45;&gt;17 46 36.101145286 pid=6534(dirname) -->\n<g id=\"edge18\" class=\"edge\">\n<title>ptid=6533(lesspipe)&#45;&gt;17 46 36.101145286 pid=6534(dirname)</title>\n<path fill=\"none\" stroke=\"#000000\" d=\"M3993.1869,-215.8314C3993.1869,-208.131 3993.1869,-198.9743 3993.1869,-190.4166\"/>\n<polygon fill=\"#000000\" stroke=\"#000000\" points=\"3996.687,-190.4132 3993.1869,-180.4133 3989.687,-190.4133 3996.687,-190.4132\"/>\n</g>\n<!-- ptid=6527(gnome&#45;terminal&#45;) -->\n<g id=\"node24\" class=\"node\">\n<title>ptid=6527(gnome&#45;terminal&#45;)</title>\n<ellipse fill=\"none\" stroke=\"#000000\" cx=\"5934.1869\" cy=\"-234\" rx=\"118.0794\" ry=\"18\"/>\n<text text-anchor=\"middle\" x=\"5934.1869\" y=\"-230.3\" font-family=\"Times,serif\" font-size=\"14.00\" fill=\"#000000\">ptid=6527(gnome&#45;terminal&#45;)</text>\n</g>\n<!-- 17 46 36.581164617 pid=6536(bash) -->\n<g id=\"node25\" class=\"node\">\n<title>17 46 36.581164617 pid=6536(bash)</title>\n<ellipse fill=\"none\" stroke=\"#000000\" cx=\"4346.1869\" cy=\"-162\" rx=\"153.2729\" ry=\"18\"/>\n<text text-anchor=\"middle\" x=\"4346.1869\" y=\"-158.3\" font-family=\"Times,serif\" font-size=\"14.00\" fill=\"#000000\">17 46 36.581164617 pid=6536(bash)</text>\n</g>\n<!-- ptid=6527(gnome&#45;terminal&#45;)&#45;&gt;17 46 36.581164617 pid=6536(bash) -->\n<g id=\"edge20\" class=\"edge\">\n<title>ptid=6527(gnome&#45;terminal&#45;)&#45;&gt;17 46 36.581164617 pid=6536(bash)</title>\n<path fill=\"none\" stroke=\"#000000\" d=\"M5820.6191,-228.8508C5540.686,-216.1587 4817.3151,-183.361 4499.6379,-168.9575\"/>\n<polygon fill=\"#000000\" stroke=\"#000000\" points=\"4499.5819,-165.4514 4489.4337,-168.4948 4499.2648,-172.4443 4499.5819,-165.4514\"/>\n</g>\n<!-- 17 46 37.026929869 pid=6542(bash) -->\n<g id=\"node31\" class=\"node\">\n<title>17 46 37.026929869 pid=6542(bash)</title>\n<ellipse fill=\"none\" stroke=\"#000000\" cx=\"5052.1869\" cy=\"-162\" rx=\"153.2729\" ry=\"18\"/>\n<text text-anchor=\"middle\" x=\"5052.1869\" y=\"-158.3\" font-family=\"Times,serif\" font-size=\"14.00\" fill=\"#000000\">17 46 37.026929869 pid=6542(bash)</text>\n</g>\n<!-- ptid=6527(gnome&#45;terminal&#45;)&#45;&gt;17 46 37.026929869 pid=6542(bash) -->\n<g id=\"edge25\" class=\"edge\">\n<title>ptid=6527(gnome&#45;terminal&#45;)&#45;&gt;17 46 37.026929869 pid=6542(bash)</title>\n<path fill=\"none\" stroke=\"#000000\" d=\"M5829.5463,-225.4579C5669.8564,-212.422 5365.2954,-187.5599 5188.5092,-173.1284\"/>\n<polygon fill=\"#000000\" stroke=\"#000000\" points=\"5188.6116,-169.6252 5178.36,-172.2998 5188.042,-176.602 5188.6116,-169.6252\"/>\n</g>\n<!-- 17 46 37.469282627 pid=6548(bash) -->\n<g id=\"node37\" class=\"node\">\n<title>17 46 37.469282627 pid=6548(bash)</title>\n<ellipse fill=\"none\" stroke=\"#000000\" cx=\"5758.1869\" cy=\"-162\" rx=\"153.2729\" ry=\"18\"/>\n<text text-anchor=\"middle\" x=\"5758.1869\" y=\"-158.3\" font-family=\"Times,serif\" font-size=\"14.00\" fill=\"#000000\">17 46 37.469282627 pid=6548(bash)</text>\n</g>\n<!-- ptid=6527(gnome&#45;terminal&#45;)&#45;&gt;17 46 37.469282627 pid=6548(bash) -->\n<g id=\"edge30\" class=\"edge\">\n<title>ptid=6527(gnome&#45;terminal&#45;)&#45;&gt;17 46 37.469282627 pid=6548(bash)</title>\n<path fill=\"none\" stroke=\"#000000\" d=\"M5892.9227,-217.1192C5868.2191,-207.0132 5836.5932,-194.0753 5810.1907,-183.2743\"/>\n<polygon fill=\"#000000\" stroke=\"#000000\" points=\"5811.303,-179.9478 5800.7223,-179.4009 5808.6525,-186.4267 5811.303,-179.9478\"/>\n</g>\n<!-- 17 46 37.937791365 pid=6554(bash) -->\n<g id=\"node43\" class=\"node\">\n<title>17 46 37.937791365 pid=6554(bash)</title>\n<ellipse fill=\"none\" stroke=\"#000000\" cx=\"6111.1869\" cy=\"-162\" rx=\"153.2729\" ry=\"18\"/>\n<text text-anchor=\"middle\" x=\"6111.1869\" y=\"-158.3\" font-family=\"Times,serif\" font-size=\"14.00\" fill=\"#000000\">17 46 37.937791365 pid=6554(bash)</text>\n</g>\n<!-- ptid=6527(gnome&#45;terminal&#45;)&#45;&gt;17 46 37.937791365 pid=6554(bash) -->\n<g id=\"edge35\" class=\"edge\">\n<title>ptid=6527(gnome&#45;terminal&#45;)&#45;&gt;17 46 37.937791365 pid=6554(bash)</title>\n<path fill=\"none\" stroke=\"#000000\" d=\"M5975.6855,-217.1192C6000.5295,-207.0132 6032.335,-194.0753 6058.8875,-183.2743\"/>\n<polygon fill=\"#000000\" stroke=\"#000000\" points=\"6060.4656,-186.4109 6068.4097,-179.4009 6057.828,-179.9269 6060.4656,-186.4109\"/>\n</g>\n<!-- 17 46 38.413360622 pid=6560(bash) -->\n<g id=\"node49\" class=\"node\">\n<title>17 46 38.413360622 pid=6560(bash)</title>\n<ellipse fill=\"none\" stroke=\"#000000\" cx=\"6817.1869\" cy=\"-162\" rx=\"153.2729\" ry=\"18\"/>\n<text text-anchor=\"middle\" x=\"6817.1869\" y=\"-158.3\" font-family=\"Times,serif\" font-size=\"14.00\" fill=\"#000000\">17 46 38.413360622 pid=6560(bash)</text>\n</g>\n<!-- ptid=6527(gnome&#45;terminal&#45;)&#45;&gt;17 46 38.413360622 pid=6560(bash) -->\n<g id=\"edge40\" class=\"edge\">\n<title>ptid=6527(gnome&#45;terminal&#45;)&#45;&gt;17 46 38.413360622 pid=6560(bash)</title>\n<path fill=\"none\" stroke=\"#000000\" d=\"M6038.51,-225.4935C6198.328,-212.4619 6503.8144,-187.5525 6680.9293,-173.1105\"/>\n<polygon fill=\"#000000\" stroke=\"#000000\" points=\"6681.4145,-176.5826 6691.097,-172.2814 6680.8456,-169.6058 6681.4145,-176.5826\"/>\n</g>\n<!-- 17 46 38.912539908 pid=6566(bash) -->\n<g id=\"node55\" class=\"node\">\n<title>17 46 38.912539908 pid=6566(bash)</title>\n<ellipse fill=\"none\" stroke=\"#000000\" cx=\"7523.1869\" cy=\"-162\" rx=\"153.2729\" ry=\"18\"/>\n<text text-anchor=\"middle\" x=\"7523.1869\" y=\"-158.3\" font-family=\"Times,serif\" font-size=\"14.00\" fill=\"#000000\">17 46 38.912539908 pid=6566(bash)</text>\n</g>\n<!-- ptid=6527(gnome&#45;terminal&#45;)&#45;&gt;17 46 38.912539908 pid=6566(bash) -->\n<g id=\"edge45\" class=\"edge\">\n<title>ptid=6527(gnome&#45;terminal&#45;)&#45;&gt;17 46 38.912539908 pid=6566(bash)</title>\n<path fill=\"none\" stroke=\"#000000\" d=\"M6047.8261,-228.8508C6327.9355,-216.1587 7051.7619,-183.361 7369.6392,-168.9575\"/>\n<polygon fill=\"#000000\" stroke=\"#000000\" points=\"7370.0186,-172.444 7379.8498,-168.4948 7369.7016,-165.4511 7370.0186,-172.444\"/>\n</g>\n<!-- 17 46 36.582567182 pid=6537(lesspipe) -->\n<g id=\"node26\" class=\"node\">\n<title>17 46 36.582567182 pid=6537(lesspipe)</title>\n<ellipse fill=\"none\" stroke=\"#000000\" cx=\"3993.1869\" cy=\"-90\" rx=\"165.9709\" ry=\"18\"/>\n<text text-anchor=\"middle\" x=\"3993.1869\" y=\"-86.3\" font-family=\"Times,serif\" font-size=\"14.00\" fill=\"#000000\">17 46 36.582567182 pid=6537(lesspipe)</text>\n</g>\n<!-- 17 46 36.581164617 pid=6536(bash)&#45;&gt;17 46 36.582567182 pid=6537(lesspipe) -->\n<g id=\"edge21\" class=\"edge\">\n<title>17 46 36.581164617 pid=6536(bash)&#45;&gt;17 46 36.582567182 pid=6537(lesspipe)</title>\n<path fill=\"none\" stroke=\"#000000\" d=\"M4269.5911,-146.3771C4214.0984,-135.0585 4138.96,-119.7328 4081.0316,-107.9173\"/>\n<polygon fill=\"#000000\" stroke=\"#000000\" points=\"4081.6556,-104.4726 4071.1578,-105.9034 4080.2566,-111.3314 4081.6556,-104.4726\"/>\n</g>\n<!-- 17 46 36.584094970 pid=6541(dircolors) -->\n<g id=\"node30\" class=\"node\">\n<title>17 46 36.584094970 pid=6541(dircolors)</title>\n<ellipse fill=\"none\" stroke=\"#000000\" cx=\"4346.1869\" cy=\"-90\" rx=\"168.97\" ry=\"18\"/>\n<text text-anchor=\"middle\" x=\"4346.1869\" y=\"-86.3\" font-family=\"Times,serif\" font-size=\"14.00\" fill=\"#000000\">17 46 36.584094970 pid=6541(dircolors)</text>\n</g>\n<!-- 17 46 36.581164617 pid=6536(bash)&#45;&gt;17 46 36.584094970 pid=6541(dircolors) -->\n<g id=\"edge24\" class=\"edge\">\n<title>17 46 36.581164617 pid=6536(bash)&#45;&gt;17 46 36.584094970 pid=6541(dircolors)</title>\n<path fill=\"none\" stroke=\"#000000\" d=\"M4346.1869,-143.8314C4346.1869,-136.131 4346.1869,-126.9743 4346.1869,-118.4166\"/>\n<polygon fill=\"#000000\" stroke=\"#000000\" points=\"4349.687,-118.4132 4346.1869,-108.4133 4342.687,-118.4133 4349.687,-118.4132\"/>\n</g>\n<!-- 17 46 36.582892422 pid=6538(basename) -->\n<g id=\"node27\" class=\"node\">\n<title>17 46 36.582892422 pid=6538(basename)</title>\n<ellipse fill=\"none\" stroke=\"#000000\" cx=\"3993.1869\" cy=\"-18\" rx=\"172.7694\" ry=\"18\"/>\n<text text-anchor=\"middle\" x=\"3993.1869\" y=\"-14.3\" font-family=\"Times,serif\" font-size=\"14.00\" fill=\"#000000\">17 46 36.582892422 pid=6538(basename)</text>\n</g>\n<!-- 17 46 36.582567182 pid=6537(lesspipe)&#45;&gt;17 46 36.582892422 pid=6538(basename) -->\n<g id=\"edge22\" class=\"edge\">\n<title>17 46 36.582567182 pid=6537(lesspipe)&#45;&gt;17 46 36.582892422 pid=6538(basename)</title>\n<path fill=\"none\" stroke=\"#000000\" d=\"M3993.1869,-71.8314C3993.1869,-64.131 3993.1869,-54.9743 3993.1869,-46.4166\"/>\n<polygon fill=\"#000000\" stroke=\"#000000\" points=\"3996.687,-46.4132 3993.1869,-36.4133 3989.687,-46.4133 3996.687,-46.4132\"/>\n</g>\n<!-- ptid=6539(lesspipe) -->\n<g id=\"node28\" class=\"node\">\n<title>ptid=6539(lesspipe)</title>\n<ellipse fill=\"none\" stroke=\"#000000\" cx=\"7861.1869\" cy=\"-234\" rx=\"85.2851\" ry=\"18\"/>\n<text text-anchor=\"middle\" x=\"7861.1869\" y=\"-230.3\" font-family=\"Times,serif\" font-size=\"14.00\" fill=\"#000000\">ptid=6539(lesspipe)</text>\n</g>\n<!-- 17 46 36.583391768 pid=6540(dirname) -->\n<g id=\"node29\" class=\"node\">\n<title>17 46 36.583391768 pid=6540(dirname)</title>\n<ellipse fill=\"none\" stroke=\"#000000\" cx=\"7861.1869\" cy=\"-162\" rx=\"167.0704\" ry=\"18\"/>\n<text text-anchor=\"middle\" x=\"7861.1869\" y=\"-158.3\" font-family=\"Times,serif\" font-size=\"14.00\" fill=\"#000000\">17 46 36.583391768 pid=6540(dirname)</text>\n</g>\n<!-- ptid=6539(lesspipe)&#45;&gt;17 46 36.583391768 pid=6540(dirname) -->\n<g id=\"edge23\" class=\"edge\">\n<title>ptid=6539(lesspipe)&#45;&gt;17 46 36.583391768 pid=6540(dirname)</title>\n<path fill=\"none\" stroke=\"#000000\" d=\"M7861.1869,-215.8314C7861.1869,-208.131 7861.1869,-198.9743 7861.1869,-190.4166\"/>\n<polygon fill=\"#000000\" stroke=\"#000000\" points=\"7864.687,-190.4132 7861.1869,-180.4133 7857.687,-190.4133 7864.687,-190.4132\"/>\n</g>\n<!-- 17 46 37.028355120 pid=6543(lesspipe) -->\n<g id=\"node32\" class=\"node\">\n<title>17 46 37.028355120 pid=6543(lesspipe)</title>\n<ellipse fill=\"none\" stroke=\"#000000\" cx=\"4699.1869\" cy=\"-90\" rx=\"165.9709\" ry=\"18\"/>\n<text text-anchor=\"middle\" x=\"4699.1869\" y=\"-86.3\" font-family=\"Times,serif\" font-size=\"14.00\" fill=\"#000000\">17 46 37.028355120 pid=6543(lesspipe)</text>\n</g>\n<!-- 17 46 37.026929869 pid=6542(bash)&#45;&gt;17 46 37.028355120 pid=6543(lesspipe) -->\n<g id=\"edge26\" class=\"edge\">\n<title>17 46 37.026929869 pid=6542(bash)&#45;&gt;17 46 37.028355120 pid=6543(lesspipe)</title>\n<path fill=\"none\" stroke=\"#000000\" d=\"M4975.5911,-146.3771C4920.0984,-135.0585 4844.96,-119.7328 4787.0316,-107.9173\"/>\n<polygon fill=\"#000000\" stroke=\"#000000\" points=\"4787.6556,-104.4726 4777.1578,-105.9034 4786.2566,-111.3314 4787.6556,-104.4726\"/>\n</g>\n<!-- 17 46 37.030013977 pid=6547(dircolors) -->\n<g id=\"node36\" class=\"node\">\n<title>17 46 37.030013977 pid=6547(dircolors)</title>\n<ellipse fill=\"none\" stroke=\"#000000\" cx=\"5052.1869\" cy=\"-90\" rx=\"168.97\" ry=\"18\"/>\n<text text-anchor=\"middle\" x=\"5052.1869\" y=\"-86.3\" font-family=\"Times,serif\" font-size=\"14.00\" fill=\"#000000\">17 46 37.030013977 pid=6547(dircolors)</text>\n</g>\n<!-- 17 46 37.026929869 pid=6542(bash)&#45;&gt;17 46 37.030013977 pid=6547(dircolors) -->\n<g id=\"edge29\" class=\"edge\">\n<title>17 46 37.026929869 pid=6542(bash)&#45;&gt;17 46 37.030013977 pid=6547(dircolors)</title>\n<path fill=\"none\" stroke=\"#000000\" d=\"M5052.1869,-143.8314C5052.1869,-136.131 5052.1869,-126.9743 5052.1869,-118.4166\"/>\n<polygon fill=\"#000000\" stroke=\"#000000\" points=\"5055.687,-118.4132 5052.1869,-108.4133 5048.687,-118.4133 5055.687,-118.4132\"/>\n</g>\n<!-- 17 46 37.028689582 pid=6544(basename) -->\n<g id=\"node33\" class=\"node\">\n<title>17 46 37.028689582 pid=6544(basename)</title>\n<ellipse fill=\"none\" stroke=\"#000000\" cx=\"4699.1869\" cy=\"-18\" rx=\"172.7694\" ry=\"18\"/>\n<text text-anchor=\"middle\" x=\"4699.1869\" y=\"-14.3\" font-family=\"Times,serif\" font-size=\"14.00\" fill=\"#000000\">17 46 37.028689582 pid=6544(basename)</text>\n</g>\n<!-- 17 46 37.028355120 pid=6543(lesspipe)&#45;&gt;17 46 37.028689582 pid=6544(basename) -->\n<g id=\"edge27\" class=\"edge\">\n<title>17 46 37.028355120 pid=6543(lesspipe)&#45;&gt;17 46 37.028689582 pid=6544(basename)</title>\n<path fill=\"none\" stroke=\"#000000\" d=\"M4699.1869,-71.8314C4699.1869,-64.131 4699.1869,-54.9743 4699.1869,-46.4166\"/>\n<polygon fill=\"#000000\" stroke=\"#000000\" points=\"4702.687,-46.4132 4699.1869,-36.4133 4695.687,-46.4133 4702.687,-46.4132\"/>\n</g>\n<!-- ptid=6545(lesspipe) -->\n<g id=\"node34\" class=\"node\">\n<title>ptid=6545(lesspipe)</title>\n<ellipse fill=\"none\" stroke=\"#000000\" cx=\"8213.1869\" cy=\"-234\" rx=\"85.2851\" ry=\"18\"/>\n<text text-anchor=\"middle\" x=\"8213.1869\" y=\"-230.3\" font-family=\"Times,serif\" font-size=\"14.00\" fill=\"#000000\">ptid=6545(lesspipe)</text>\n</g>\n<!-- 17 46 37.029219388 pid=6546(dirname) -->\n<g id=\"node35\" class=\"node\">\n<title>17 46 37.029219388 pid=6546(dirname)</title>\n<ellipse fill=\"none\" stroke=\"#000000\" cx=\"8213.1869\" cy=\"-162\" rx=\"167.0704\" ry=\"18\"/>\n<text text-anchor=\"middle\" x=\"8213.1869\" y=\"-158.3\" font-family=\"Times,serif\" font-size=\"14.00\" fill=\"#000000\">17 46 37.029219388 pid=6546(dirname)</text>\n</g>\n<!-- ptid=6545(lesspipe)&#45;&gt;17 46 37.029219388 pid=6546(dirname) -->\n<g id=\"edge28\" class=\"edge\">\n<title>ptid=6545(lesspipe)&#45;&gt;17 46 37.029219388 pid=6546(dirname)</title>\n<path fill=\"none\" stroke=\"#000000\" d=\"M8213.1869,-215.8314C8213.1869,-208.131 8213.1869,-198.9743 8213.1869,-190.4166\"/>\n<polygon fill=\"#000000\" stroke=\"#000000\" points=\"8216.687,-190.4132 8213.1869,-180.4133 8209.687,-190.4133 8216.687,-190.4132\"/>\n</g>\n<!-- 17 46 37.470948470 pid=6549(lesspipe) -->\n<g id=\"node38\" class=\"node\">\n<title>17 46 37.470948470 pid=6549(lesspipe)</title>\n<ellipse fill=\"none\" stroke=\"#000000\" cx=\"5405.1869\" cy=\"-90\" rx=\"165.9709\" ry=\"18\"/>\n<text text-anchor=\"middle\" x=\"5405.1869\" y=\"-86.3\" font-family=\"Times,serif\" font-size=\"14.00\" fill=\"#000000\">17 46 37.470948470 pid=6549(lesspipe)</text>\n</g>\n<!-- 17 46 37.469282627 pid=6548(bash)&#45;&gt;17 46 37.470948470 pid=6549(lesspipe) -->\n<g id=\"edge31\" class=\"edge\">\n<title>17 46 37.469282627 pid=6548(bash)&#45;&gt;17 46 37.470948470 pid=6549(lesspipe)</title>\n<path fill=\"none\" stroke=\"#000000\" d=\"M5681.5911,-146.3771C5626.0984,-135.0585 5550.96,-119.7328 5493.0316,-107.9173\"/>\n<polygon fill=\"#000000\" stroke=\"#000000\" points=\"5493.6556,-104.4726 5483.1578,-105.9034 5492.2566,-111.3314 5493.6556,-104.4726\"/>\n</g>\n<!-- 17 46 37.478685677 pid=6553(dircolors) -->\n<g id=\"node42\" class=\"node\">\n<title>17 46 37.478685677 pid=6553(dircolors)</title>\n<ellipse fill=\"none\" stroke=\"#000000\" cx=\"5758.1869\" cy=\"-90\" rx=\"168.97\" ry=\"18\"/>\n<text text-anchor=\"middle\" x=\"5758.1869\" y=\"-86.3\" font-family=\"Times,serif\" font-size=\"14.00\" fill=\"#000000\">17 46 37.478685677 pid=6553(dircolors)</text>\n</g>\n<!-- 17 46 37.469282627 pid=6548(bash)&#45;&gt;17 46 37.478685677 pid=6553(dircolors) -->\n<g id=\"edge34\" class=\"edge\">\n<title>17 46 37.469282627 pid=6548(bash)&#45;&gt;17 46 37.478685677 pid=6553(dircolors)</title>\n<path fill=\"none\" stroke=\"#000000\" d=\"M5758.1869,-143.8314C5758.1869,-136.131 5758.1869,-126.9743 5758.1869,-118.4166\"/>\n<polygon fill=\"#000000\" stroke=\"#000000\" points=\"5761.687,-118.4132 5758.1869,-108.4133 5754.687,-118.4133 5761.687,-118.4132\"/>\n</g>\n<!-- 17 46 37.474263185 pid=6550(basename) -->\n<g id=\"node39\" class=\"node\">\n<title>17 46 37.474263185 pid=6550(basename)</title>\n<ellipse fill=\"none\" stroke=\"#000000\" cx=\"5405.1869\" cy=\"-18\" rx=\"172.7694\" ry=\"18\"/>\n<text text-anchor=\"middle\" x=\"5405.1869\" y=\"-14.3\" font-family=\"Times,serif\" font-size=\"14.00\" fill=\"#000000\">17 46 37.474263185 pid=6550(basename)</text>\n</g>\n<!-- 17 46 37.470948470 pid=6549(lesspipe)&#45;&gt;17 46 37.474263185 pid=6550(basename) -->\n<g id=\"edge32\" class=\"edge\">\n<title>17 46 37.470948470 pid=6549(lesspipe)&#45;&gt;17 46 37.474263185 pid=6550(basename)</title>\n<path fill=\"none\" stroke=\"#000000\" d=\"M5405.1869,-71.8314C5405.1869,-64.131 5405.1869,-54.9743 5405.1869,-46.4166\"/>\n<polygon fill=\"#000000\" stroke=\"#000000\" points=\"5408.687,-46.4132 5405.1869,-36.4133 5401.687,-46.4133 5408.687,-46.4132\"/>\n</g>\n<!-- ptid=6551(lesspipe) -->\n<g id=\"node40\" class=\"node\">\n<title>ptid=6551(lesspipe)</title>\n<ellipse fill=\"none\" stroke=\"#000000\" cx=\"8565.1869\" cy=\"-234\" rx=\"85.2851\" ry=\"18\"/>\n<text text-anchor=\"middle\" x=\"8565.1869\" y=\"-230.3\" font-family=\"Times,serif\" font-size=\"14.00\" fill=\"#000000\">ptid=6551(lesspipe)</text>\n</g>\n<!-- 17 46 37.474783588 pid=6552(dirname) -->\n<g id=\"node41\" class=\"node\">\n<title>17 46 37.474783588 pid=6552(dirname)</title>\n<ellipse fill=\"none\" stroke=\"#000000\" cx=\"8565.1869\" cy=\"-162\" rx=\"167.0704\" ry=\"18\"/>\n<text text-anchor=\"middle\" x=\"8565.1869\" y=\"-158.3\" font-family=\"Times,serif\" font-size=\"14.00\" fill=\"#000000\">17 46 37.474783588 pid=6552(dirname)</text>\n</g>\n<!-- ptid=6551(lesspipe)&#45;&gt;17 46 37.474783588 pid=6552(dirname) -->\n<g id=\"edge33\" class=\"edge\">\n<title>ptid=6551(lesspipe)&#45;&gt;17 46 37.474783588 pid=6552(dirname)</title>\n<path fill=\"none\" stroke=\"#000000\" d=\"M8565.1869,-215.8314C8565.1869,-208.131 8565.1869,-198.9743 8565.1869,-190.4166\"/>\n<polygon fill=\"#000000\" stroke=\"#000000\" points=\"8568.687,-190.4132 8565.1869,-180.4133 8561.687,-190.4133 8568.687,-190.4132\"/>\n</g>\n<!-- 17 46 37.973656706 pid=6555(lesspipe) -->\n<g id=\"node44\" class=\"node\">\n<title>17 46 37.973656706 pid=6555(lesspipe)</title>\n<ellipse fill=\"none\" stroke=\"#000000\" cx=\"6111.1869\" cy=\"-90\" rx=\"165.9709\" ry=\"18\"/>\n<text text-anchor=\"middle\" x=\"6111.1869\" y=\"-86.3\" font-family=\"Times,serif\" font-size=\"14.00\" fill=\"#000000\">17 46 37.973656706 pid=6555(lesspipe)</text>\n</g>\n<!-- 17 46 37.937791365 pid=6554(bash)&#45;&gt;17 46 37.973656706 pid=6555(lesspipe) -->\n<g id=\"edge36\" class=\"edge\">\n<title>17 46 37.937791365 pid=6554(bash)&#45;&gt;17 46 37.973656706 pid=6555(lesspipe)</title>\n<path fill=\"none\" stroke=\"#000000\" d=\"M6111.1869,-143.8314C6111.1869,-136.131 6111.1869,-126.9743 6111.1869,-118.4166\"/>\n<polygon fill=\"#000000\" stroke=\"#000000\" points=\"6114.687,-118.4132 6111.1869,-108.4133 6107.687,-118.4133 6114.687,-118.4132\"/>\n</g>\n<!-- 17 46 37.983523944 pid=6559(dircolors) -->\n<g id=\"node48\" class=\"node\">\n<title>17 46 37.983523944 pid=6559(dircolors)</title>\n<ellipse fill=\"none\" stroke=\"#000000\" cx=\"6464.1869\" cy=\"-90\" rx=\"168.97\" ry=\"18\"/>\n<text text-anchor=\"middle\" x=\"6464.1869\" y=\"-86.3\" font-family=\"Times,serif\" font-size=\"14.00\" fill=\"#000000\">17 46 37.983523944 pid=6559(dircolors)</text>\n</g>\n<!-- 17 46 37.937791365 pid=6554(bash)&#45;&gt;17 46 37.983523944 pid=6559(dircolors) -->\n<g id=\"edge39\" class=\"edge\">\n<title>17 46 37.937791365 pid=6554(bash)&#45;&gt;17 46 37.983523944 pid=6559(dircolors)</title>\n<path fill=\"none\" stroke=\"#000000\" d=\"M6187.7826,-146.3771C6243.1794,-135.078 6318.1542,-119.7857 6376.0418,-107.9786\"/>\n<polygon fill=\"#000000\" stroke=\"#000000\" points=\"6376.811,-111.3939 6385.9097,-105.9659 6375.412,-104.5351 6376.811,-111.3939\"/>\n</g>\n<!-- 17 46 37.974009751 pid=6556(basename) -->\n<g id=\"node45\" class=\"node\">\n<title>17 46 37.974009751 pid=6556(basename)</title>\n<ellipse fill=\"none\" stroke=\"#000000\" cx=\"6111.1869\" cy=\"-18\" rx=\"172.7694\" ry=\"18\"/>\n<text text-anchor=\"middle\" x=\"6111.1869\" y=\"-14.3\" font-family=\"Times,serif\" font-size=\"14.00\" fill=\"#000000\">17 46 37.974009751 pid=6556(basename)</text>\n</g>\n<!-- 17 46 37.973656706 pid=6555(lesspipe)&#45;&gt;17 46 37.974009751 pid=6556(basename) -->\n<g id=\"edge37\" class=\"edge\">\n<title>17 46 37.973656706 pid=6555(lesspipe)&#45;&gt;17 46 37.974009751 pid=6556(basename)</title>\n<path fill=\"none\" stroke=\"#000000\" d=\"M6111.1869,-71.8314C6111.1869,-64.131 6111.1869,-54.9743 6111.1869,-46.4166\"/>\n<polygon fill=\"#000000\" stroke=\"#000000\" points=\"6114.687,-46.4132 6111.1869,-36.4133 6107.687,-46.4133 6114.687,-46.4132\"/>\n</g>\n<!-- ptid=6557(lesspipe) -->\n<g id=\"node46\" class=\"node\">\n<title>ptid=6557(lesspipe)</title>\n<ellipse fill=\"none\" stroke=\"#000000\" cx=\"8917.1869\" cy=\"-234\" rx=\"85.2851\" ry=\"18\"/>\n<text text-anchor=\"middle\" x=\"8917.1869\" y=\"-230.3\" font-family=\"Times,serif\" font-size=\"14.00\" fill=\"#000000\">ptid=6557(lesspipe)</text>\n</g>\n<!-- 17 46 37.982652868 pid=6558(dirname) -->\n<g id=\"node47\" class=\"node\">\n<title>17 46 37.982652868 pid=6558(dirname)</title>\n<ellipse fill=\"none\" stroke=\"#000000\" cx=\"8917.1869\" cy=\"-162\" rx=\"167.0704\" ry=\"18\"/>\n<text text-anchor=\"middle\" x=\"8917.1869\" y=\"-158.3\" font-family=\"Times,serif\" font-size=\"14.00\" fill=\"#000000\">17 46 37.982652868 pid=6558(dirname)</text>\n</g>\n<!-- ptid=6557(lesspipe)&#45;&gt;17 46 37.982652868 pid=6558(dirname) -->\n<g id=\"edge38\" class=\"edge\">\n<title>ptid=6557(lesspipe)&#45;&gt;17 46 37.982652868 pid=6558(dirname)</title>\n<path fill=\"none\" stroke=\"#000000\" d=\"M8917.1869,-215.8314C8917.1869,-208.131 8917.1869,-198.9743 8917.1869,-190.4166\"/>\n<polygon fill=\"#000000\" stroke=\"#000000\" points=\"8920.687,-190.4132 8917.1869,-180.4133 8913.687,-190.4133 8920.687,-190.4132\"/>\n</g>\n<!-- 17 46 38.414747633 pid=6561(lesspipe) -->\n<g id=\"node50\" class=\"node\">\n<title>17 46 38.414747633 pid=6561(lesspipe)</title>\n<ellipse fill=\"none\" stroke=\"#000000\" cx=\"6817.1869\" cy=\"-90\" rx=\"165.9709\" ry=\"18\"/>\n<text text-anchor=\"middle\" x=\"6817.1869\" y=\"-86.3\" font-family=\"Times,serif\" font-size=\"14.00\" fill=\"#000000\">17 46 38.414747633 pid=6561(lesspipe)</text>\n</g>\n<!-- 17 46 38.413360622 pid=6560(bash)&#45;&gt;17 46 38.414747633 pid=6561(lesspipe) -->\n<g id=\"edge41\" class=\"edge\">\n<title>17 46 38.413360622 pid=6560(bash)&#45;&gt;17 46 38.414747633 pid=6561(lesspipe)</title>\n<path fill=\"none\" stroke=\"#000000\" d=\"M6817.1869,-143.8314C6817.1869,-136.131 6817.1869,-126.9743 6817.1869,-118.4166\"/>\n<polygon fill=\"#000000\" stroke=\"#000000\" points=\"6820.687,-118.4132 6817.1869,-108.4133 6813.687,-118.4133 6820.687,-118.4132\"/>\n</g>\n<!-- 17 46 38.417299535 pid=6565(dircolors) -->\n<g id=\"node54\" class=\"node\">\n<title>17 46 38.417299535 pid=6565(dircolors)</title>\n<ellipse fill=\"none\" stroke=\"#000000\" cx=\"7170.1869\" cy=\"-90\" rx=\"168.97\" ry=\"18\"/>\n<text text-anchor=\"middle\" x=\"7170.1869\" y=\"-86.3\" font-family=\"Times,serif\" font-size=\"14.00\" fill=\"#000000\">17 46 38.417299535 pid=6565(dircolors)</text>\n</g>\n<!-- 17 46 38.413360622 pid=6560(bash)&#45;&gt;17 46 38.417299535 pid=6565(dircolors) -->\n<g id=\"edge44\" class=\"edge\">\n<title>17 46 38.413360622 pid=6560(bash)&#45;&gt;17 46 38.417299535 pid=6565(dircolors)</title>\n<path fill=\"none\" stroke=\"#000000\" d=\"M6893.7826,-146.3771C6949.1794,-135.078 7024.1542,-119.7857 7082.0418,-107.9786\"/>\n<polygon fill=\"#000000\" stroke=\"#000000\" points=\"7082.811,-111.3939 7091.9097,-105.9659 7081.412,-104.5351 7082.811,-111.3939\"/>\n</g>\n<!-- 17 46 38.415105179 pid=6562(basename) -->\n<g id=\"node51\" class=\"node\">\n<title>17 46 38.415105179 pid=6562(basename)</title>\n<ellipse fill=\"none\" stroke=\"#000000\" cx=\"6817.1869\" cy=\"-18\" rx=\"172.7694\" ry=\"18\"/>\n<text text-anchor=\"middle\" x=\"6817.1869\" y=\"-14.3\" font-family=\"Times,serif\" font-size=\"14.00\" fill=\"#000000\">17 46 38.415105179 pid=6562(basename)</text>\n</g>\n<!-- 17 46 38.414747633 pid=6561(lesspipe)&#45;&gt;17 46 38.415105179 pid=6562(basename) -->\n<g id=\"edge42\" class=\"edge\">\n<title>17 46 38.414747633 pid=6561(lesspipe)&#45;&gt;17 46 38.415105179 pid=6562(basename)</title>\n<path fill=\"none\" stroke=\"#000000\" d=\"M6817.1869,-71.8314C6817.1869,-64.131 6817.1869,-54.9743 6817.1869,-46.4166\"/>\n<polygon fill=\"#000000\" stroke=\"#000000\" points=\"6820.687,-46.4132 6817.1869,-36.4133 6813.687,-46.4133 6820.687,-46.4132\"/>\n</g>\n<!-- ptid=6563(lesspipe) -->\n<g id=\"node52\" class=\"node\">\n<title>ptid=6563(lesspipe)</title>\n<ellipse fill=\"none\" stroke=\"#000000\" cx=\"9269.1869\" cy=\"-234\" rx=\"85.2851\" ry=\"18\"/>\n<text text-anchor=\"middle\" x=\"9269.1869\" y=\"-230.3\" font-family=\"Times,serif\" font-size=\"14.00\" fill=\"#000000\">ptid=6563(lesspipe)</text>\n</g>\n<!-- 17 46 38.415608862 pid=6564(dirname) -->\n<g id=\"node53\" class=\"node\">\n<title>17 46 38.415608862 pid=6564(dirname)</title>\n<ellipse fill=\"none\" stroke=\"#000000\" cx=\"9269.1869\" cy=\"-162\" rx=\"167.0704\" ry=\"18\"/>\n<text text-anchor=\"middle\" x=\"9269.1869\" y=\"-158.3\" font-family=\"Times,serif\" font-size=\"14.00\" fill=\"#000000\">17 46 38.415608862 pid=6564(dirname)</text>\n</g>\n<!-- ptid=6563(lesspipe)&#45;&gt;17 46 38.415608862 pid=6564(dirname) -->\n<g id=\"edge43\" class=\"edge\">\n<title>ptid=6563(lesspipe)&#45;&gt;17 46 38.415608862 pid=6564(dirname)</title>\n<path fill=\"none\" stroke=\"#000000\" d=\"M9269.1869,-215.8314C9269.1869,-208.131 9269.1869,-198.9743 9269.1869,-190.4166\"/>\n<polygon fill=\"#000000\" stroke=\"#000000\" points=\"9272.687,-190.4132 9269.1869,-180.4133 9265.687,-190.4133 9272.687,-190.4132\"/>\n</g>\n<!-- 17 46 38.913962405 pid=6567(lesspipe) -->\n<g id=\"node56\" class=\"node\">\n<title>17 46 38.913962405 pid=6567(lesspipe)</title>\n<ellipse fill=\"none\" stroke=\"#000000\" cx=\"7523.1869\" cy=\"-90\" rx=\"165.9709\" ry=\"18\"/>\n<text text-anchor=\"middle\" x=\"7523.1869\" y=\"-86.3\" font-family=\"Times,serif\" font-size=\"14.00\" fill=\"#000000\">17 46 38.913962405 pid=6567(lesspipe)</text>\n</g>\n<!-- 17 46 38.912539908 pid=6566(bash)&#45;&gt;17 46 38.913962405 pid=6567(lesspipe) -->\n<g id=\"edge46\" class=\"edge\">\n<title>17 46 38.912539908 pid=6566(bash)&#45;&gt;17 46 38.913962405 pid=6567(lesspipe)</title>\n<path fill=\"none\" stroke=\"#000000\" d=\"M7523.1869,-143.8314C7523.1869,-136.131 7523.1869,-126.9743 7523.1869,-118.4166\"/>\n<polygon fill=\"#000000\" stroke=\"#000000\" points=\"7526.687,-118.4132 7523.1869,-108.4133 7519.687,-118.4133 7526.687,-118.4132\"/>\n</g>\n<!-- 17 46 38.915502121 pid=6571(dircolors) -->\n<g id=\"node60\" class=\"node\">\n<title>17 46 38.915502121 pid=6571(dircolors)</title>\n<ellipse fill=\"none\" stroke=\"#000000\" cx=\"7876.1869\" cy=\"-90\" rx=\"168.97\" ry=\"18\"/>\n<text text-anchor=\"middle\" x=\"7876.1869\" y=\"-86.3\" font-family=\"Times,serif\" font-size=\"14.00\" fill=\"#000000\">17 46 38.915502121 pid=6571(dircolors)</text>\n</g>\n<!-- 17 46 38.912539908 pid=6566(bash)&#45;&gt;17 46 38.915502121 pid=6571(dircolors) -->\n<g id=\"edge49\" class=\"edge\">\n<title>17 46 38.912539908 pid=6566(bash)&#45;&gt;17 46 38.915502121 pid=6571(dircolors)</title>\n<path fill=\"none\" stroke=\"#000000\" d=\"M7599.7826,-146.3771C7655.1794,-135.078 7730.1542,-119.7857 7788.0418,-107.9786\"/>\n<polygon fill=\"#000000\" stroke=\"#000000\" points=\"7788.811,-111.3939 7797.9097,-105.9659 7787.412,-104.5351 7788.811,-111.3939\"/>\n</g>\n<!-- 17 46 38.914281543 pid=6568(basename) -->\n<g id=\"node57\" class=\"node\">\n<title>17 46 38.914281543 pid=6568(basename)</title>\n<ellipse fill=\"none\" stroke=\"#000000\" cx=\"7523.1869\" cy=\"-18\" rx=\"172.7694\" ry=\"18\"/>\n<text text-anchor=\"middle\" x=\"7523.1869\" y=\"-14.3\" font-family=\"Times,serif\" font-size=\"14.00\" fill=\"#000000\">17 46 38.914281543 pid=6568(basename)</text>\n</g>\n<!-- 17 46 38.913962405 pid=6567(lesspipe)&#45;&gt;17 46 38.914281543 pid=6568(basename) -->\n<g id=\"edge47\" class=\"edge\">\n<title>17 46 38.913962405 pid=6567(lesspipe)&#45;&gt;17 46 38.914281543 pid=6568(basename)</title>\n<path fill=\"none\" stroke=\"#000000\" d=\"M7523.1869,-71.8314C7523.1869,-64.131 7523.1869,-54.9743 7523.1869,-46.4166\"/>\n<polygon fill=\"#000000\" stroke=\"#000000\" points=\"7526.687,-46.4132 7523.1869,-36.4133 7519.687,-46.4133 7526.687,-46.4132\"/>\n</g>\n<!-- ptid=6569(lesspipe) -->\n<g id=\"node58\" class=\"node\">\n<title>ptid=6569(lesspipe)</title>\n<ellipse fill=\"none\" stroke=\"#000000\" cx=\"9621.1869\" cy=\"-234\" rx=\"85.2851\" ry=\"18\"/>\n<text text-anchor=\"middle\" x=\"9621.1869\" y=\"-230.3\" font-family=\"Times,serif\" font-size=\"14.00\" fill=\"#000000\">ptid=6569(lesspipe)</text>\n</g>\n<!-- 17 46 38.914796221 pid=6570(dirname) -->\n<g id=\"node59\" class=\"node\">\n<title>17 46 38.914796221 pid=6570(dirname)</title>\n<ellipse fill=\"none\" stroke=\"#000000\" cx=\"9621.1869\" cy=\"-162\" rx=\"167.0704\" ry=\"18\"/>\n<text text-anchor=\"middle\" x=\"9621.1869\" y=\"-158.3\" font-family=\"Times,serif\" font-size=\"14.00\" fill=\"#000000\">17 46 38.914796221 pid=6570(dirname)</text>\n</g>\n<!-- ptid=6569(lesspipe)&#45;&gt;17 46 38.914796221 pid=6570(dirname) -->\n<g id=\"edge48\" class=\"edge\">\n<title>ptid=6569(lesspipe)&#45;&gt;17 46 38.914796221 pid=6570(dirname)</title>\n<path fill=\"none\" stroke=\"#000000\" d=\"M9621.1869,-215.8314C9621.1869,-208.131 9621.1869,-198.9743 9621.1869,-190.4166\"/>\n<polygon fill=\"#000000\" stroke=\"#000000\" points=\"9624.687,-190.4132 9621.1869,-180.4133 9617.687,-190.4133 9624.687,-190.4132\"/>\n</g>\n</g>\n</svg>\n"
          },
          "metadata": {},
          "execution_count": 14
        }
      ]
    },
    {
      "cell_type": "markdown",
      "metadata": {
        "id": "NU-gHS-zsnAH"
      },
      "source": [
        "Analyze all the execve files"
      ]
    },
    {
      "cell_type": "code",
      "metadata": {
        "id": "rOOtWMkWsmQ9"
      },
      "source": [
        "l = []\n",
        "f = open('sysdigIO.txt','r')\n",
        "for line in f:\n",
        "  # print(line)\n",
        "  if '> execve' in line:\n",
        "    print(line);\n",
        "  if '< execve' in line:\n",
        "    print(line);"
      ],
      "execution_count": null,
      "outputs": []
    },
    {
      "cell_type": "markdown",
      "metadata": {
        "id": "zenpzl_SxVAh"
      },
      "source": [
        "## **Downloading any  file from colab**"
      ]
    },
    {
      "cell_type": "code",
      "metadata": {
        "id": "NbKx1RG4nzJ3",
        "colab": {
          "base_uri": "https://localhost:8080/",
          "height": 321
        },
        "outputId": "5b55e59d-f975-463a-ad2b-7c4796e4882f"
      },
      "source": [
        "from google.colab import files\n",
        "import pandas as pd\n",
        "\n",
        "files.download('Backtracker.gv.pdf')"
      ],
      "execution_count": null,
      "outputs": [
        {
          "output_type": "error",
          "ename": "FileNotFoundError",
          "evalue": "ignored",
          "traceback": [
            "\u001b[0;31m---------------------------------------------------------------------------\u001b[0m",
            "\u001b[0;31mFileNotFoundError\u001b[0m                         Traceback (most recent call last)",
            "\u001b[0;32m<ipython-input-4-bb7de84df045>\u001b[0m in \u001b[0;36m<module>\u001b[0;34m()\u001b[0m\n\u001b[1;32m      2\u001b[0m \u001b[0;32mimport\u001b[0m \u001b[0mpandas\u001b[0m \u001b[0;32mas\u001b[0m \u001b[0mpd\u001b[0m\u001b[0;34m\u001b[0m\u001b[0;34m\u001b[0m\u001b[0m\n\u001b[1;32m      3\u001b[0m \u001b[0;34m\u001b[0m\u001b[0m\n\u001b[0;32m----> 4\u001b[0;31m \u001b[0mfiles\u001b[0m\u001b[0;34m.\u001b[0m\u001b[0mdownload\u001b[0m\u001b[0;34m(\u001b[0m\u001b[0;34m'Backtracker.gv.pdf'\u001b[0m\u001b[0;34m)\u001b[0m\u001b[0;34m\u001b[0m\u001b[0;34m\u001b[0m\u001b[0m\n\u001b[0m",
            "\u001b[0;32m/usr/local/lib/python3.7/dist-packages/google/colab/files.py\u001b[0m in \u001b[0;36mdownload\u001b[0;34m(filename)\u001b[0m\n\u001b[1;32m    141\u001b[0m       \u001b[0;32mraise\u001b[0m \u001b[0mOSError\u001b[0m\u001b[0;34m(\u001b[0m\u001b[0mmsg\u001b[0m\u001b[0;34m)\u001b[0m\u001b[0;34m\u001b[0m\u001b[0;34m\u001b[0m\u001b[0m\n\u001b[1;32m    142\u001b[0m     \u001b[0;32melse\u001b[0m\u001b[0;34m:\u001b[0m\u001b[0;34m\u001b[0m\u001b[0;34m\u001b[0m\u001b[0m\n\u001b[0;32m--> 143\u001b[0;31m       \u001b[0;32mraise\u001b[0m \u001b[0mFileNotFoundError\u001b[0m\u001b[0;34m(\u001b[0m\u001b[0mmsg\u001b[0m\u001b[0;34m)\u001b[0m  \u001b[0;31m# pylint: disable=undefined-variable\u001b[0m\u001b[0;34m\u001b[0m\u001b[0;34m\u001b[0m\u001b[0m\n\u001b[0m\u001b[1;32m    144\u001b[0m \u001b[0;34m\u001b[0m\u001b[0m\n\u001b[1;32m    145\u001b[0m   \u001b[0mcomm_manager\u001b[0m \u001b[0;34m=\u001b[0m \u001b[0m_IPython\u001b[0m\u001b[0;34m.\u001b[0m\u001b[0mget_ipython\u001b[0m\u001b[0;34m(\u001b[0m\u001b[0;34m)\u001b[0m\u001b[0;34m.\u001b[0m\u001b[0mkernel\u001b[0m\u001b[0;34m.\u001b[0m\u001b[0mcomm_manager\u001b[0m\u001b[0;34m\u001b[0m\u001b[0;34m\u001b[0m\u001b[0m\n",
            "\u001b[0;31mFileNotFoundError\u001b[0m: Cannot find file: Backtracker.gv.pdf"
          ]
        }
      ]
    },
    {
      "cell_type": "code",
      "metadata": {
        "colab": {
          "base_uri": "https://localhost:8080/"
        },
        "id": "lnAfdrs74aes",
        "outputId": "4b62d772-8273-4e1d-9045-9f48e585e373"
      },
      "source": [
        "l = 0\n",
        "f = open('sysdigIO.txt','r')\n",
        "for line in f:\n",
        "  # print(line)\n",
        "  if l==0:\n",
        "    if 'book.pdf' in line:\n",
        "      if 'tar (6524) > read fd=4' in line:\n",
        "        print(line)\n",
        "        break"
      ],
      "execution_count": null,
      "outputs": [
        {
          "output_type": "stream",
          "name": "stdout",
          "text": [
            "1215703 17:46:30.949946669 0 tar (6524) > read fd=4(<f>/home/raihan/Research/book.pdf) size=9728 \n",
            "\n"
          ]
        }
      ]
    },
    {
      "cell_type": "markdown",
      "metadata": {
        "id": "73oq_E2WB95F"
      },
      "source": [
        "\n",
        "\n",
        "---\n",
        "\n",
        "\n",
        "---\n",
        "\n",
        "\n",
        "\n",
        "---\n",
        "\n",
        "\n",
        "\n",
        "## **GRAPH**\n",
        "\n",
        "---\n",
        "\n",
        "\n",
        "A input will be given, => master.zip or, tar or, \n",
        "The graph will show all it’s ancestors,\n",
        "\n",
        "A process has ancestors in 3 ways,\n",
        "read from a file,\n",
        "read from a socket,\n",
        "a parent process.\n",
        "A socket has no ancestors.\n",
        "A file has 1 ancestors\n",
        "-Who is writing to this file?"
      ]
    },
    {
      "cell_type": "code",
      "metadata": {
        "colab": {
          "base_uri": "https://localhost:8080/"
        },
        "id": "hsWJIjpU6r4p",
        "outputId": "ed87539c-dd17-467b-a41b-492be243374a"
      },
      "source": [
        "# If it's a file - this code will find which process is writing to this file\n",
        "l = 0\n",
        "f = open('sysdigIO.txt','r')\n",
        "for line in f:\n",
        "  # print(line)\n",
        "  if l==0:\n",
        "    if 'master.zip' in line:\n",
        "      if '> write fd=3' in line:\n",
        "        print(line)\n",
        "        break"
      ],
      "execution_count": null,
      "outputs": [
        {
          "output_type": "stream",
          "name": "stdout",
          "text": [
            "318841 17:46:00.357253346 0 wget (6494) > write fd=3(<f>/home/raihan/Research/master.zip) size=716 \n",
            "\n"
          ]
        }
      ]
    },
    {
      "cell_type": "code",
      "metadata": {
        "colab": {
          "base_uri": "https://localhost:8080/"
        },
        "id": "UHrlGirU75pK",
        "outputId": "97365a04-c3b9-4555-bea8-1c72c12209cc"
      },
      "source": [
        "# If it's a process - \n",
        "# 1. this code will find where it is reading from?\n",
        "l = 0\n",
        "f = open('sysdigIO.txt','r')\n",
        "for line in f:\n",
        "  # print(line)\n",
        "  if 'tar' in line:\n",
        "    if '> read fd=4' in line :\n",
        "      print(line)\n",
        "      l+=1\n",
        "      if(l==10):\n",
        "        break\n",
        "  "
      ],
      "execution_count": null,
      "outputs": [
        {
          "output_type": "stream",
          "name": "stdout",
          "text": [
            "1215515 17:46:30.949496117 0 tar (6524) > read fd=4(<f>/usr/share/locale/locale.alias) size=4096 \n",
            "\n",
            "1215517 17:46:30.949509664 0 tar (6524) > read fd=4(<f>/usr/share/locale/locale.alias) size=4096 \n",
            "\n",
            "1215703 17:46:30.949946669 0 tar (6524) > read fd=4(<f>/home/raihan/Research/book.pdf) size=9728 \n",
            "\n",
            "1215709 17:46:30.949991922 0 tar (6524) > read fd=4(<f>/home/raihan/Research/book.pdf) size=10240 \n",
            "\n",
            "1215713 17:46:30.950004697 0 tar (6524) > read fd=4(<f>/home/raihan/Research/book.pdf) size=10240 \n",
            "\n",
            "1215717 17:46:30.950017661 0 tar (6524) > read fd=4(<f>/home/raihan/Research/book.pdf) size=10240 \n",
            "\n",
            "1215721 17:46:30.950029223 0 tar (6524) > read fd=4(<f>/home/raihan/Research/book.pdf) size=10240 \n",
            "\n",
            "1215725 17:46:30.950043471 0 tar (6524) > read fd=4(<f>/home/raihan/Research/book.pdf) size=10240 \n",
            "\n",
            "1215729 17:46:30.950054304 0 tar (6524) > read fd=4(<f>/home/raihan/Research/book.pdf) size=10240 \n",
            "\n",
            "1215733 17:46:30.950066613 0 tar (6524) > read fd=4(<f>/home/raihan/Research/book.pdf) size=10240 \n",
            "\n",
            "1215735 17:46:30.950068865 0 tar (6524) > write fd=3(<f>/home/raihan/Research/book.tar) size=10240 \n",
            "\n"
          ]
        }
      ]
    },
    {
      "cell_type": "code",
      "metadata": {
        "colab": {
          "base_uri": "https://localhost:8080/"
        },
        "id": "E2cLTKYk76Im",
        "outputId": "0c38cfae-b731-4d83-df7e-70042b04aac7"
      },
      "source": [
        "# for process\n",
        "# 1. this code will find it's parent process,, it will require the process id too,,\n",
        "f = open('sysdigIO.txt','r')\n",
        "process = 'tar'\n",
        "for line in f:\n",
        "  if '< execve' in line:\n",
        "    if process in line :\n",
        "      print(line)"
      ],
      "execution_count": null,
      "outputs": [
        {
          "output_type": "stream",
          "name": "stdout",
          "text": [
            "1082888 17:46:25.063528549 0 tar (6518) < execve res=0 exe=tar args=--help. tid=6518(tar) pid=6518(tar) ptid=5893(bash) cwd= fdlimit=1024 pgft_maj=0 pgft_min=124 vm_size=784 vm_rss=4 vm_swap=0 comm=tar cgroups=cpuset=/.cpu=/.cpuacct=/.io=/.memory=/user.slice/user-1000.slice/user@1000.se... env=SHELL=/bin/bash.SESSION_MANAGER=local/raihan-VirtualBox:@/tmp/.ICE-unix/1559,... tty=34817 pgid=5893(bash) loginuid=1000 \n",
            "\n",
            "1181743 17:46:30.013918828 0 tar (6521) < execve res=0 exe=tar args=--help. tid=6521(tar) pid=6521(tar) ptid=5893(bash) cwd= fdlimit=1024 pgft_maj=0 pgft_min=132 vm_size=784 vm_rss=4 vm_swap=0 comm=tar cgroups=cpuset=/.cpu=/.cpuacct=/.io=/.memory=/user.slice/user-1000.slice/user@1000.se... env=SHELL=/bin/bash.SESSION_MANAGER=local/raihan-VirtualBox:@/tmp/.ICE-unix/1559,... tty=34817 pgid=5893(bash) loginuid=1000 \n",
            "\n",
            "1215158 17:46:30.947867977 0 tar (6524) < execve res=0 exe=tar args=cvf.book.tar.book.pdf. tid=6524(tar) pid=6524(tar) ptid=5893(bash) cwd= fdlimit=1024 pgft_maj=0 pgft_min=28 vm_size=784 vm_rss=4 vm_swap=0 comm=tar cgroups=cpuset=/.cpu=/.cpuacct=/.io=/.memory=/user.slice/user-1000.slice/user@1000.se... env=SHELL=/bin/bash.SESSION_MANAGER=local/raihan-VirtualBox:@/tmp/.ICE-unix/1559,... tty=34817 pgid=6524(tar) loginuid=1000 \n",
            "\n"
          ]
        }
      ]
    },
    {
      "cell_type": "code",
      "metadata": {
        "colab": {
          "base_uri": "https://localhost:8080/"
        },
        "id": "1m8Cd1-RCf0v",
        "outputId": "cf7ac00f-9a6f-427e-8fa9-eb7f8f98c0c5"
      },
      "source": [
        "# for process\n",
        "# 1. this code will find the socket connection,,\n",
        "f = open('sysdigIO.txt','r')\n",
        "process = 'wget'\n",
        "for line in f:\n",
        "  if 'data=Connecting to' in line:\n",
        "    if process in line :\n",
        "      print(line)"
      ],
      "execution_count": null,
      "outputs": [
        {
          "output_type": "stream",
          "name": "stdout",
          "text": [
            "286416 17:45:59.867002094 0 wget (6494) < write res=61 data=Connecting to github.com (github.com)|192.30.255.113|:443...  \n",
            "\n",
            "304585 17:46:00.108111638 0 wget (6494) < write res=78 data=Connecting to codeload.github.com (codeload.github.com)|140.82.112.10|:443...  \n",
            "\n"
          ]
        }
      ]
    },
    {
      "cell_type": "markdown",
      "metadata": {
        "id": "s8OrbOzXe7oR"
      },
      "source": [
        "# **---Ultimate backtracker All the experiments are put into action---working perfectly fine**"
      ]
    },
    {
      "cell_type": "code",
      "metadata": {
        "id": "KigPpJD1fM-w",
        "colab": {
          "resources": {
            "http://localhost:8080/nbextensions/google.colab/files.js": {
              "data": "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",
              "ok": true,
              "headers": [
                [
                  "content-type",
                  "application/javascript"
                ]
              ],
              "status": 200,
              "status_text": ""
            }
          },
          "base_uri": "https://localhost:8080/",
          "height": 73
        },
        "outputId": "bd79997b-5d9a-4aad-a72d-94bc38cdd633"
      },
      "source": [
        "from google.colab import files\n",
        "uploaded = files.upload()"
      ],
      "execution_count": null,
      "outputs": [
        {
          "output_type": "display_data",
          "data": {
            "text/html": [
              "\n",
              "     <input type=\"file\" id=\"files-726391a5-be21-4ee9-b67b-b403e9c6a318\" name=\"files[]\" multiple disabled\n",
              "        style=\"border:none\" />\n",
              "     <output id=\"result-726391a5-be21-4ee9-b67b-b403e9c6a318\">\n",
              "      Upload widget is only available when the cell has been executed in the\n",
              "      current browser session. Please rerun this cell to enable.\n",
              "      </output>\n",
              "      <script src=\"/nbextensions/google.colab/files.js\"></script> "
            ],
            "text/plain": [
              "<IPython.core.display.HTML object>"
            ]
          },
          "metadata": {}
        },
        {
          "output_type": "stream",
          "name": "stdout",
          "text": [
            "Saving sysdigIO_v2.txt to sysdigIO_v2.txt\n"
          ]
        }
      ]
    },
    {
      "cell_type": "code",
      "metadata": {
        "id": "2y69xdgpfQ_X"
      },
      "source": [
        "# writing to file \n",
        "def file_write(f):\n",
        "  # print(f)\n",
        "  file = open(\"sysdigIO_v2.txt\",'r')\n",
        "  # f = \"write \"+f\n",
        "  for line in file:\n",
        "    if \"> write fd=\" in line:\n",
        "      # print(line.split()[0])\n",
        "      if f in line:\n",
        "        s = line\n",
        "        # process_written =  (s.split(\"(\"))[1].split(\")\")[0]+\"(\"+s.split()[3]+\")\"\n",
        "        regular_proc = s.split()[3] + \" \"+ s.split()[4]\n",
        "\n",
        "        file_path = s.split()[7]\n",
        "        # print(file_path)\n",
        "        file_path = file_path.split(\"<f>\")[1] #.split(f.split(\".\")[0])[0]\n",
        "        # print(file_path)\n",
        "        # file_path = file_path.split(\"/\")[-1]\n",
        "        # print(s1.split(\"/\")[-1])\n",
        "        file_path = file_path.replace(file_path.split(\"/\")[-1],\"\")\n",
        "        # print(file_path)\n",
        "        if f in file_path:\n",
        "          f = f+\"/\"\n",
        "          file_path = file_path.replace(f,\"\")\n",
        "        return regular_proc, file_path"
      ],
      "execution_count": null,
      "outputs": []
    },
    {
      "cell_type": "code",
      "metadata": {
        "colab": {
          "base_uri": "https://localhost:8080/"
        },
        "id": "LmcRf0NAaKZ4",
        "outputId": "4cccd611-c31d-4952-c2fb-ad21e20f95c0"
      },
      "source": [
        "# print(file_write(\"book.tar\"))\n",
        "a = \"Web-Development-Project-master\"\n",
        "if \"master\" in a:\n",
        "  val = file_write(\"home/raihan/\")\n",
        "  print(val)"
      ],
      "execution_count": null,
      "outputs": [
        {
          "output_type": "stream",
          "name": "stdout",
          "text": [
            "('wget (29286)', '/home/raihan/')\n"
          ]
        }
      ]
    },
    {
      "cell_type": "code",
      "metadata": {
        "id": "wu2j7_mafgmg"
      },
      "source": [
        "# all process connections\n",
        "def parent_p(process):\n",
        "  file = open(\"sysdigIO_v2.txt\",'r')\n",
        "  for line in file:\n",
        "    if '< execve' in line:\n",
        "      if process in line:\n",
        "      # print(line.split()[0])\n",
        "        parent = (line.split(\"ptid=\"))[1].split(\"cwd\")[0]\n",
        "        regular_process = parent.split('(')[1]\n",
        "        # print(regular_process[:-2]) # :-1 will eliminate a space and :-2 will eliminate the ')'brackets too\n",
        "        regular_process = regular_process[:-2] + \" (\" +parent.split('(')[0]+\")\"\n",
        "        # print(regular_process+'\\n\\n')\n",
        "        # print(parent)\n",
        "        return regular_process"
      ],
      "execution_count": null,
      "outputs": []
    },
    {
      "cell_type": "code",
      "metadata": {
        "colab": {
          "base_uri": "https://localhost:8080/"
        },
        "id": "wlZe_yQlk21j",
        "outputId": "12d02e21-e5fc-4f15-8b46-7ba146c113ae"
      },
      "source": [
        "print(parent_p(\"tar (29299)\"))"
      ],
      "execution_count": null,
      "outputs": [
        {
          "output_type": "stream",
          "name": "stdout",
          "text": [
            "bash (4546)\n"
          ]
        }
      ]
    },
    {
      "cell_type": "code",
      "metadata": {
        "id": "vkluXEnpfrmv"
      },
      "source": [
        "def p_socket(regular_process):\n",
        "  file = open(\"sysdigIO_v2.txt\",'r')\n",
        "  l=[]\n",
        "  for line in file:\n",
        "    if 'data=Connecting to ' in line:\n",
        "      # print(line)\n",
        "      st = line\n",
        "      # print(st.split()[-1])\n",
        "      # print(st.split()[3])\n",
        "      # print(st.split()[4])\n",
        "      process = st.split()[3]+\" \"+st.split()[4]\n",
        "      # print(process)\n",
        "      if process == regular_process or process.split()[0] == regular_process:\n",
        "        destination_ip = st.split()[-1]\n",
        "        destination_ip = destination_ip.replace(\":\",\" \")\n",
        "        l.append(destination_ip)\n",
        "        # return regular_process, destination_ip\n",
        "  return l"
      ],
      "execution_count": null,
      "outputs": []
    },
    {
      "cell_type": "code",
      "metadata": {
        "colab": {
          "base_uri": "https://localhost:8080/"
        },
        "id": "9pLj6Y108Gq-",
        "outputId": "612dcdb4-2fba-4a5d-f762-650b83edf64b"
      },
      "source": [
        "value = p_socket(\"wget (29286)\")\n",
        "if value != []:\n",
        "  for i in value:\n",
        "    print(i)"
      ],
      "execution_count": null,
      "outputs": [
        {
          "output_type": "stream",
          "name": "stdout",
          "text": [
            "(github.com)|192.30.255.113| 443...\n",
            "(codeload.github.com)|140.82.113.9| 443...\n"
          ]
        }
      ]
    },
    {
      "cell_type": "code",
      "metadata": {
        "id": "0XuKA9anfsug"
      },
      "source": [
        "def p_read_from(process, file_path):\n",
        "  file = open(\"sysdigIO_v2.txt\",'r')\n",
        "  # p = p+\" read\"\n",
        "  for line in file:\n",
        "    # regular_process = process.split('(')[1]\n",
        "    # # print(regular_process[:-1])\n",
        "    # regular_process = regular_process[:-1] + \" (\" +process.split('(')[0]+\")\"\n",
        "    # print(regular_process+'\\n\\n')\n",
        "    # print(regular_process)\n",
        "    if '> read fd=' in line:\n",
        "      if process in line:\n",
        "        if file_path in line:\n",
        "        # print(line.split()[0])\n",
        "          file = line.split()[7]\n",
        "          file_read = file.split(\"<f>/\")[1].split(\")\")[0]\n",
        "          # print(file_read)\n",
        "          check = \"/.\"+process.split()[0]\n",
        "          print(check)\n",
        "          if check in line:\n",
        "            return None\n",
        "          return file_read"
      ],
      "execution_count": null,
      "outputs": []
    },
    {
      "cell_type": "code",
      "metadata": {
        "colab": {
          "base_uri": "https://localhost:8080/"
        },
        "id": "p-7AEjYvgzX1",
        "outputId": "6583c722-6c8f-438f-f7ce-2c8a21caff80"
      },
      "source": [
        "# file_path = \"/home/raihan/\"\n",
        "print(p_read_from(\"tar (29299)\",file_path))"
      ],
      "execution_count": null,
      "outputs": [
        {
          "output_type": "stream",
          "name": "stdout",
          "text": [
            "/.tar\n",
            "home/raihan/master.tar.gz\n"
          ]
        }
      ]
    },
    {
      "cell_type": "markdown",
      "metadata": {
        "id": "tmv9wMPQWT2o"
      },
      "source": [
        "**This part will decide if the input is a file or a process**"
      ]
    },
    {
      "cell_type": "code",
      "metadata": {
        "id": "CpmTWJL3O65n"
      },
      "source": [
        "def is_process(inp):\n",
        "  whitelist = set('abcdefghijklmnopqrstuvwxyzABCDEFGHIJKLMNOPQRSTUVWXYZ0123456789.')\n",
        "  check_inp = ''.join(filter(whitelist.__contains__, inp))\n",
        "  check_inp = check_inp.lower()\n",
        "\n",
        "  file = open(\"sysdigIO_v2.txt\",'r')\n",
        "  if '(' in inp:\n",
        "    return True\n",
        "  for line in file:\n",
        "    if '> execve' in line:\n",
        "      filtered_line = ''.join(filter(whitelist.__contains__, line))\n",
        "      filtered_line = filtered_line.lower()\n",
        "      if check_inp in filtered_line:\n",
        "        # print(filtered_line)\n",
        "        return True"
      ],
      "execution_count": null,
      "outputs": []
    },
    {
      "cell_type": "code",
      "metadata": {
        "id": "ZpOyvXvTritb"
      },
      "source": [
        "def find_process_id(inp):\n",
        "  file = open(\"sysdigIO_v2.txt\",'r')\n",
        "  for line in file:\n",
        "    if 'data=Connecting to ' in line:\n",
        "      # print(line)\n",
        "      st = line\n",
        "      # print(st.split()[-1])\n",
        "      # print(st.split()[3])\n",
        "      # print(st.split()[4])\n",
        "      process = st.split()[3]+\" \"+st.split()[4]\n",
        "      if process.split()[0] == inp:\n",
        "        return process\n",
        "    elif '> read fd=' in line:\n",
        "       if inp in line:\n",
        "         process = line.split()[3]+\" \"+line.split()[4]\n",
        "         return process"
      ],
      "execution_count": null,
      "outputs": []
    },
    {
      "cell_type": "code",
      "metadata": {
        "colab": {
          "base_uri": "https://localhost:8080/"
        },
        "id": "XVe4LlXusq6K",
        "outputId": "dde36d66-5f04-420e-a046-de15f328fb20"
      },
      "source": [
        "print(find_process_id(\"tar\"))"
      ],
      "execution_count": null,
      "outputs": [
        {
          "output_type": "stream",
          "name": "stdout",
          "text": [
            "tar (29296)\n"
          ]
        }
      ]
    },
    {
      "cell_type": "code",
      "metadata": {
        "id": "TQZSLP5xMmzW"
      },
      "source": [
        "def is_file(inp):\n",
        "  whitelist = set('abcdefghijklmnopqrstuvwxyzABCDEFGHIJKLMNOPQRSTUVWXYZ0123456789.')\n",
        "  check_inp = ''.join(filter(whitelist.__contains__, inp))\n",
        "  check_inp = check_inp.lower()\n",
        "\n",
        "  file = open(\"sysdigIO_v2.txt\",'r')\n",
        "  for line in file:\n",
        "    if \"> write fd=\" in line or \"> read fd=\" in line:\n",
        "      if check_inp in line:\n",
        "          return check_inp\n",
        "\n",
        "      if \"write\" in line:\n",
        "        rem_proc = \"write\"\n",
        "        filtered_line = line[line.index(rem_proc) + len(rem_proc):]\n",
        "      elif \"read\" in line:\n",
        "        rem_proc = \"read\"\n",
        "        filtered_line = line[line.index(rem_proc) + len(rem_proc):]\n",
        "        \n",
        "      # print(filtered_line)\n",
        "      filtered_line = ''.join(filter(whitelist.__contains__, filtered_line))\n",
        "      filtered_line = filtered_line.lower()\n",
        "      if check_inp in filtered_line:\n",
        "        # print(filtered_line)\n",
        "        file = line.split()[7].split(\"/\")[3]\n",
        "        return file"
      ],
      "execution_count": null,
      "outputs": []
    },
    {
      "cell_type": "code",
      "metadata": {
        "id": "uhbAvILDfsiQ",
        "colab": {
          "base_uri": "https://localhost:8080/",
          "height": 996
        },
        "outputId": "db784b39-284f-4b5f-a169-296f62a4c530"
      },
      "source": [
        "import graphviz\n",
        "from graphviz import Graph\n",
        "\n",
        "# g = Graph('G', filename='process.gv', engine='sfdp')\n",
        "g = graphviz.Digraph()\n",
        "\n",
        "val = input()\n",
        "\n",
        "# i=1\n",
        "proc = is_process(val)\n",
        "print(proc)\n",
        "if proc != True:\n",
        "  file = is_file(val)\n",
        "  if file != None:\n",
        "    val = file\n",
        "    print(val)\n",
        "    # i = i+1\n",
        "else:\n",
        "  val = find_process_id(val)\n",
        "  g.node(val, shape='box') \n",
        "  print(val)\n",
        "\n",
        "f = open(\"sysdigIO_v2.txt\",'r')\n",
        "l = []\n",
        "soc = []\n",
        "l.append(val)\n",
        "print(l)\n",
        "# g.node(val)\n",
        "\n",
        "length = len(l)\n",
        "# val = l[0]\n",
        "\n",
        "while length > 0:\n",
        "\n",
        "  val = l[0]\n",
        "  print(val)\n",
        "  # \n",
        "\n",
        "  if '.' in val or \"/\" in val or \"-\" in val:\n",
        "    # print(\"entered\")\n",
        "    print(val)\n",
        "    # print(file_write(val))\n",
        "\n",
        "    ## Edge to - the previous value of val\n",
        "    et = val\n",
        "    # print(\"et \"+et)\n",
        "    value = file_write(val)\n",
        "    # print(value)\n",
        "    # # file = value[1]\n",
        "    # file_path = value[1]\n",
        "    # val = value[0]\n",
        "    # print(val)\n",
        "\n",
        "    if value != None:\n",
        "      file_path = value[1]\n",
        "      val = value[0]\n",
        "      print(\"val in file \"+val)\n",
        "      if val not in l:\n",
        "        g.node(val, shape='box') \n",
        "        ## If it's not in list then the node is not created\n",
        "        l.append(val)\n",
        "        print(l)\n",
        "      # Edge from - new value of val\n",
        "      ef = val\n",
        "      g.edge(ef,et)\n",
        "    \n",
        "    l.remove(et)\n",
        "\n",
        "  # print(\"file part \")\n",
        "  print(l)\n",
        "\n",
        "\n",
        "  length = len(l)\n",
        "  # # print(length)\n",
        "  if(length == 0):\n",
        "    break\n",
        "\n",
        "  val = l[0]\n",
        "  # if '(' in val:\n",
        "  if is_process(val) or '(' in val:\n",
        "\n",
        "    # Edge to - the previous value of val\n",
        "    print(val)\n",
        "    et = val\n",
        "\n",
        "    # print(p_socket(val))\n",
        "    val2 = p_socket(val)\n",
        "    print(\"socket val2 \")\n",
        "    print(val2)\n",
        "    if val2 != []:\n",
        "      for socket in val2:\n",
        "        if socket not in l:\n",
        "          # soc.append(val2)\n",
        "          g.node(socket, shape='diamond') ## If it's not in list then the node is not created\n",
        "        # Edge from - new value of val --- ensuring the value is not none\n",
        "        ef = socket\n",
        "        g.edge(ef,et)\n",
        "        print(socket)\n",
        "    \n",
        "  #   #### The following line will add socket to the list and remove it at the end,\n",
        "  #   # val2 = p_socket(val)\n",
        "  #   # if val2 != None:\n",
        "  #   #   if val2 not in l:\n",
        "  #   #     l.append(val2)\n",
        "\n",
        "    # print(parent_p(val))\n",
        "    val2 = parent_p(val)\n",
        "    if val2 != None:\n",
        "      if val2 not in l:\n",
        "        # print(\"val2 \"+val2)     \n",
        "        l.append(val2)\n",
        "        g.node(val2, shape='box') ## If it's not in list then the node is not created\n",
        "      # Edge from - new value of val --- ensuring the value is not none\n",
        "      # if ef != val2:\n",
        "      # if et != val2:\n",
        "      ef = val2\n",
        "      g.edge(ef,et)\n",
        "    \n",
        "    # print(p_read_from(val))\n",
        "    val2 = p_read_from(val,file_path)\n",
        "    # print(\"file path \"+file_path)\n",
        "    if val2 != None:\n",
        "      if val2 not in l:\n",
        "        l.append(val2)\n",
        "        g.node(val2, shape='ellipse') ## If it's not in list then the node is not created\n",
        "      # Edge from - new value of val --- ensuring the value is not none\n",
        "      # if et != val2:\n",
        "      ef = val2\n",
        "      g.edge(ef,et)\n",
        "             \n",
        "    l.remove(et)\n",
        "    \n",
        "    # i+= 1\n",
        "    # if i==9:\n",
        "    #   print(i)\n",
        "    #   break\n",
        "\n",
        "  print(l)\n",
        "  # #### removing the socket\n",
        "  # # if 's' in l[0]:\n",
        "  # #   l.remove(l[0])\n",
        "\n",
        "  # if 's' in val:\n",
        "  #   l.remove(val)\n",
        "    \n",
        "  length = len(l)\n",
        "\n",
        "g.render('Backtracker.gv.pdf', view=True)\n",
        "\n",
        "# print('Backtracker.gv.pdf')\n",
        "\n",
        "with open(\"Backtracker.gv.pdf\") as f:\n",
        "    dot_graph = f.read()\n",
        "graphviz.Source(dot_graph)\n",
        "\n",
        "\n",
        "\n",
        "#### The graph -- list of inputs - \n",
        "\n",
        "## Web-Development-Project-master \n",
        "## Web Development Project master\n",
        "## WEB DEVELOPMENT PROJECT MASTER\n",
        "## web development project master\n",
        "## wEb dEvElOpMeNt pRoJeCt mAsTeR\n",
        "## WeB                    DeVeLoPmEnT                pRoJeCt                MaStEr\n",
        "\n",
        "## master.tar.gz\n",
        "## Master.Tar.Gz\n",
        "## mAsTeR.TaR.Gz\n",
        "## MaStEr.tAr.gZ\n",
        "## MASTER.TAR.GZ\n",
        "\n",
        "\n",
        "## wget\n",
        "## tar\n",
        "## tar (29299)"
      ],
      "execution_count": null,
      "outputs": [
        {
          "output_type": "stream",
          "name": "stdout",
          "text": [
            "tar (29299)\n",
            "True\n",
            "tar (29299)\n",
            "['tar (29299)']\n",
            "tar (29299)\n",
            "['tar (29299)']\n",
            "tar (29299)\n",
            "socket val2 \n",
            "[]\n",
            "/.tar\n",
            "['bash (4546)', 'home/raihan/master.tar.gz']\n",
            "bash (4546)\n",
            "['bash (4546)', 'home/raihan/master.tar.gz']\n",
            "bash (4546)\n",
            "socket val2 \n",
            "[]\n",
            "['home/raihan/master.tar.gz']\n",
            "home/raihan/master.tar.gz\n",
            "home/raihan/master.tar.gz\n",
            "val in file wget (29286)\n",
            "['home/raihan/master.tar.gz', 'wget (29286)']\n",
            "['wget (29286)']\n",
            "wget (29286)\n",
            "socket val2 \n",
            "['(github.com)|192.30.255.113| 443...', '(codeload.github.com)|140.82.113.9| 443...']\n",
            "(github.com)|192.30.255.113| 443...\n",
            "(codeload.github.com)|140.82.113.9| 443...\n",
            "/.wget\n",
            "['bash (4546)']\n",
            "bash (4546)\n",
            "['bash (4546)']\n",
            "bash (4546)\n",
            "socket val2 \n",
            "[]\n",
            "[]\n"
          ]
        },
        {
          "output_type": "execute_result",
          "data": {
            "text/plain": [
              "<graphviz.files.Source at 0x7f61f4801f10>"
            ],
            "image/svg+xml": "<?xml version=\"1.0\" encoding=\"UTF-8\" standalone=\"no\"?>\n<!DOCTYPE svg PUBLIC \"-//W3C//DTD SVG 1.1//EN\"\n \"http://www.w3.org/Graphics/SVG/1.1/DTD/svg11.dtd\">\n<!-- Generated by graphviz version 2.40.1 (20161225.0304)\n -->\n<!-- Title: %3 Pages: 1 -->\n<svg width=\"1044pt\" height=\"260pt\"\n viewBox=\"0.00 0.00 1044.25 260.00\" xmlns=\"http://www.w3.org/2000/svg\" xmlns:xlink=\"http://www.w3.org/1999/xlink\">\n<g id=\"graph0\" class=\"graph\" transform=\"scale(1 1) rotate(0) translate(4 256)\">\n<title>%3</title>\n<polygon fill=\"#ffffff\" stroke=\"transparent\" points=\"-4,4 -4,-256 1040.2533,-256 1040.2533,4 -4,4\"/>\n<!-- tar (29299) -->\n<g id=\"node1\" class=\"node\">\n<title>tar (29299)</title>\n<polygon fill=\"none\" stroke=\"#000000\" points=\"218.5,-36 137.5,-36 137.5,0 218.5,0 218.5,-36\"/>\n<text text-anchor=\"middle\" x=\"178\" y=\"-14.3\" font-family=\"Times,serif\" font-size=\"14.00\" fill=\"#000000\">tar (29299)</text>\n</g>\n<!-- bash (4546) -->\n<g id=\"node2\" class=\"node\">\n<title>bash (4546)</title>\n<polygon fill=\"none\" stroke=\"#000000\" points=\"86,-252 0,-252 0,-216 86,-216 86,-252\"/>\n<text text-anchor=\"middle\" x=\"43\" y=\"-230.3\" font-family=\"Times,serif\" font-size=\"14.00\" fill=\"#000000\">bash (4546)</text>\n</g>\n<!-- bash (4546)&#45;&gt;tar (29299) -->\n<g id=\"edge1\" class=\"edge\">\n<title>bash (4546)&#45;&gt;tar (29299)</title>\n<path fill=\"none\" stroke=\"#000000\" d=\"M54.2778,-215.9555C78.0517,-177.9173 133.4106,-89.3431 161.3046,-44.7127\"/>\n<polygon fill=\"#000000\" stroke=\"#000000\" points=\"164.3273,-46.4801 166.6593,-36.1451 158.3913,-42.7701 164.3273,-46.4801\"/>\n</g>\n<!-- wget (29286) -->\n<g id=\"node4\" class=\"node\">\n<title>wget (29286)</title>\n<polygon fill=\"none\" stroke=\"#000000\" points=\"343.5,-180 248.5,-180 248.5,-144 343.5,-144 343.5,-180\"/>\n<text text-anchor=\"middle\" x=\"296\" y=\"-158.3\" font-family=\"Times,serif\" font-size=\"14.00\" fill=\"#000000\">wget (29286)</text>\n</g>\n<!-- bash (4546)&#45;&gt;wget (29286) -->\n<g id=\"edge6\" class=\"edge\">\n<title>bash (4546)&#45;&gt;wget (29286)</title>\n<path fill=\"none\" stroke=\"#000000\" d=\"M86.0531,-218.8341C89.0732,-217.8513 92.0775,-216.8972 95,-216 142.9247,-201.2879 197.9409,-186.6616 238.2854,-176.3493\"/>\n<polygon fill=\"#000000\" stroke=\"#000000\" points=\"239.3851,-179.6811 248.2131,-173.8231 237.6588,-172.8973 239.3851,-179.6811\"/>\n</g>\n<!-- home/raihan/master.tar.gz -->\n<g id=\"node3\" class=\"node\">\n<title>home/raihan/master.tar.gz</title>\n<ellipse fill=\"none\" stroke=\"#000000\" cx=\"279\" cy=\"-90\" rx=\"105.0817\" ry=\"18\"/>\n<text text-anchor=\"middle\" x=\"279\" y=\"-86.3\" font-family=\"Times,serif\" font-size=\"14.00\" fill=\"#000000\">home/raihan/master.tar.gz</text>\n</g>\n<!-- home/raihan/master.tar.gz&#45;&gt;tar (29299) -->\n<g id=\"edge2\" class=\"edge\">\n<title>home/raihan/master.tar.gz&#45;&gt;tar (29299)</title>\n<path fill=\"none\" stroke=\"#000000\" d=\"M254.2926,-72.3868C241.5249,-63.2851 225.7503,-52.0399 211.8648,-42.1412\"/>\n<polygon fill=\"#000000\" stroke=\"#000000\" points=\"213.6814,-39.138 203.507,-36.1832 209.6181,-44.8379 213.6814,-39.138\"/>\n</g>\n<!-- wget (29286)&#45;&gt;home/raihan/master.tar.gz -->\n<g id=\"edge3\" class=\"edge\">\n<title>wget (29286)&#45;&gt;home/raihan/master.tar.gz</title>\n<path fill=\"none\" stroke=\"#000000\" d=\"M291.7102,-143.8314C289.892,-136.131 287.7301,-126.9743 285.7095,-118.4166\"/>\n<polygon fill=\"#000000\" stroke=\"#000000\" points=\"289.0519,-117.3414 283.3476,-108.4133 282.2392,-118.95 289.0519,-117.3414\"/>\n</g>\n<!-- (github.com)|192.30.255.113| 443... -->\n<g id=\"node5\" class=\"node\">\n<title>(github.com)|192.30.255.113| 443...</title>\n<polygon fill=\"none\" stroke=\"#000000\" points=\"314,-252 104.3643,-234 314,-216 523.6357,-234 314,-252\"/>\n<text text-anchor=\"middle\" x=\"314\" y=\"-230.3\" font-family=\"Times,serif\" font-size=\"14.00\" fill=\"#000000\">(github.com)|192.30.255.113| 443...</text>\n</g>\n<!-- (github.com)|192.30.255.113| 443...&#45;&gt;wget (29286) -->\n<g id=\"edge4\" class=\"edge\">\n<title>(github.com)|192.30.255.113| 443...&#45;&gt;wget (29286)</title>\n<path fill=\"none\" stroke=\"#000000\" d=\"M309.5506,-216.2022C307.5751,-208.3005 305.2027,-198.811 302.999,-189.9959\"/>\n<polygon fill=\"#000000\" stroke=\"#000000\" points=\"306.3442,-188.9456 300.5233,-180.0931 299.5532,-190.6434 306.3442,-188.9456\"/>\n</g>\n<!-- (codeload.github.com)|140.82.113.9| 443... -->\n<g id=\"node6\" class=\"node\">\n<title>(codeload.github.com)|140.82.113.9| 443...</title>\n<polygon fill=\"none\" stroke=\"#000000\" points=\"789,-252 541.9931,-234 789,-216 1036.0069,-234 789,-252\"/>\n<text text-anchor=\"middle\" x=\"789\" y=\"-230.3\" font-family=\"Times,serif\" font-size=\"14.00\" fill=\"#000000\">(codeload.github.com)|140.82.113.9| 443...</text>\n</g>\n<!-- (codeload.github.com)|140.82.113.9| 443...&#45;&gt;wget (29286) -->\n<g id=\"edge5\" class=\"edge\">\n<title>(codeload.github.com)|140.82.113.9| 443...&#45;&gt;wget (29286)</title>\n<path fill=\"none\" stroke=\"#000000\" d=\"M706.7604,-221.9894C606.8851,-207.4031 440.9836,-183.1741 353.7198,-170.4297\"/>\n<polygon fill=\"#000000\" stroke=\"#000000\" points=\"354.1342,-166.9531 343.7333,-168.9712 353.1225,-173.8797 354.1342,-166.9531\"/>\n</g>\n</g>\n</svg>\n"
          },
          "metadata": {},
          "execution_count": 22
        }
      ]
    },
    {
      "cell_type": "code",
      "metadata": {
        "colab": {
          "base_uri": "https://localhost:8080/",
          "height": 17
        },
        "id": "gdtOXvuSpsTL",
        "outputId": "8382d091-c7a9-4065-e413-ab0f73df6cfe"
      },
      "source": [
        "from google.colab import files\n",
        "import pandas as pd\n",
        "\n",
        "files.download('Backtracker.gv.pdf')"
      ],
      "execution_count": null,
      "outputs": [
        {
          "output_type": "display_data",
          "data": {
            "application/javascript": [
              "\n",
              "    async function download(id, filename, size) {\n",
              "      if (!google.colab.kernel.accessAllowed) {\n",
              "        return;\n",
              "      }\n",
              "      const div = document.createElement('div');\n",
              "      const label = document.createElement('label');\n",
              "      label.textContent = `Downloading \"${filename}\": `;\n",
              "      div.appendChild(label);\n",
              "      const progress = document.createElement('progress');\n",
              "      progress.max = size;\n",
              "      div.appendChild(progress);\n",
              "      document.body.appendChild(div);\n",
              "\n",
              "      const buffers = [];\n",
              "      let downloaded = 0;\n",
              "\n",
              "      const channel = await google.colab.kernel.comms.open(id);\n",
              "      // Send a message to notify the kernel that we're ready.\n",
              "      channel.send({})\n",
              "\n",
              "      for await (const message of channel.messages) {\n",
              "        // Send a message to notify the kernel that we're ready.\n",
              "        channel.send({})\n",
              "        if (message.buffers) {\n",
              "          for (const buffer of message.buffers) {\n",
              "            buffers.push(buffer);\n",
              "            downloaded += buffer.byteLength;\n",
              "            progress.value = downloaded;\n",
              "          }\n",
              "        }\n",
              "      }\n",
              "      const blob = new Blob(buffers, {type: 'application/binary'});\n",
              "      const a = document.createElement('a');\n",
              "      a.href = window.URL.createObjectURL(blob);\n",
              "      a.download = filename;\n",
              "      div.appendChild(a);\n",
              "      a.click();\n",
              "      div.remove();\n",
              "    }\n",
              "  "
            ],
            "text/plain": [
              "<IPython.core.display.Javascript object>"
            ]
          },
          "metadata": {}
        },
        {
          "output_type": "display_data",
          "data": {
            "application/javascript": [
              "download(\"download_949e1c83-69da-459f-af11-2837318c426e\", \"Backtracker.gv.pdf\", 551)"
            ],
            "text/plain": [
              "<IPython.core.display.Javascript object>"
            ]
          },
          "metadata": {}
        }
      ]
    }
  ]
}